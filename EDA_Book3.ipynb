{
 "cells": [
  {
   "cell_type": "code",
   "execution_count": 2,
   "metadata": {},
   "outputs": [],
   "source": [
    "import pandas as pd\n",
    "import numpy as np\n",
    "\n",
    "import MyLib.Util as tool\n",
    "from tqdm.auto import tqdm"
   ]
  },
  {
   "cell_type": "markdown",
   "metadata": {},
   "source": [
    "# Load Data"
   ]
  },
  {
   "cell_type": "code",
   "execution_count": 132,
   "metadata": {},
   "outputs": [],
   "source": [
    "base_data = pd.read_csv(\"./new_clean_from_book2.csv\")\n",
    "pasal1223 = \"Perikatan, lahir karena suatu persetujuan atau karena undang-undang\"\n",
    "base_data = tool.insertDataKetinggalan(base_data,[\"Pasal 1232\"],[\"Pasal 1233\"],[pasal1223])"
   ]
  },
  {
   "cell_type": "markdown",
   "metadata": {},
   "source": [
    "#### isi pasal hilang versi bab"
   ]
  },
  {
   "cell_type": "code",
   "execution_count": 133,
   "metadata": {},
   "outputs": [],
   "source": [
    "pasal1313 = \"Suatu persetujuan adalah suatu perbuatan dimana satu orang atau lebih mengikatkan diri terhadap satu orang lain atau lebih\"\n",
    "pasal1601 = \"\"\"Selain persetujuan untuk menyelenggarakan beberapa jasa yang diatur oleh ketentuan-ketentuan\n",
    "            khusus untuk itu dan oleh syarat-syarat yang diperjanjikan, dan bila ketentuan-ketentuan yang\n",
    "            syarat-syarat ini tidak ada, persetujuan yang diatur menurut kebiasaan, ada dua macam\n",
    "            persetujuan, dengan mana pihak kesatu mengikatkan diri untuk mengerjakan suatu pekerjaan bagi\n",
    "            pihak lain dengan menerima upah, yakni: perjanjian kerja dan perjanjian pemborongan kerja\"\"\"\n",
    "pasal1740 = \"\"\"Pinjam pakai adalah suatu perjanjian dalam mana pihak yang satu menyerahkan suatu barang\n",
    "            untuk dipakai dengan cuma-cuma kepada pihak lain, dengan syarat bahwa pihak yang menerima\n",
    "            barang itu setelah memakainya atau setelah lewat waktu yang ditentukan, akan mengembalikan\n",
    "            barang itu. \n",
    "            \"\"\"\n",
    "pasal1792 = \"\"\"Pasal 1792 Pemberian kuasa ialah suatu persetujuan yang berisikan pemberian kekuasaan kepada orang lain yang menerimanya untuk melaksanakan sesuatu atas nama orang yang memberikan kuasa. \"\"\""
   ]
  },
  {
   "cell_type": "code",
   "execution_count": 134,
   "metadata": {},
   "outputs": [],
   "source": [
    "errorAccPasal = [\n",
    "    1313,\n",
    "    1601,\n",
    "    1740,\n",
    "    1792\n",
    "]\n",
    "pasalPasal = [pasal1313,pasal1601,pasal1740,pasal1792]\n",
    "base_data = tool.insertDataKetinggalan(\n",
    "    base_data,\n",
    "    [f\"Pasal {a - 1}\" for a in errorAccPasal],\n",
    "    [f\"Pasal {a}\" for a in errorAccPasal],\n",
    "    pasalPasal\n",
    ")"
   ]
  },
  {
   "cell_type": "markdown",
   "metadata": {},
   "source": [
    "#### isi pasal yang hilang menurut bagian"
   ]
  },
  {
   "cell_type": "code",
   "execution_count": 135,
   "metadata": {},
   "outputs": [],
   "source": [
    "pasal1413 = \"\"\"Ada tiga macam jalan untuk pembaruan utang:\n",
    "            1. bila seorang debitur membuat suatu perikatan utang baru untuk kepentingan kreditur yang\n",
    "            menggantikan utang lama, yang dihapuskan karenanya;\n",
    "            2. bila seorang debitur baru ditunjuk untuk menggantikan debitur lama, yang oleh kreditur\n",
    "            dibebaskan dan perikatannya;\n",
    "            3. bila sebagai akibat suatu persetujuan baru seorang kreditur baru ditunjuk untuk\n",
    "            menggantikan kreditur lama, yang terhadapnya debitur dibebaskan dan perikatannya. \"\"\"\n",
    "\n",
    "pasal1533 = \"Penjualan suatu piutang meliputi segala sesuatu yang melekat padanya seperti penanggungan, hak istimewa dan hak hipotek.\"\n",
    "pasal1601d = \"Bila perjanjian kerja diadakan secara tertulis, maka biaya aktanya dan perongkosan lainnya harus ditanggung majikan.\"\n",
    "pasal1602 = \"Majikan wajib membayar upah buruh pada waktu yang ditentukan. \"\n",
    "pasal1603e = \"\"\"Hubungan kerja berakhir demi hukum, jika habis waktunya yang ditetapkan dalam perjanjian atau\n",
    "            dalam peraturan undang-undang atau jika semuanya itu tidak ada, menurut kebiasaan.\n",
    "            Pemberitahuan tentang pemutusan hubungan kerja dalam hal ini hanya diperlukan:\n",
    "            1. jika hal itu dijanjikan dalam surat perjanjian atau dalam reglemen,\n",
    "            2. jika menurut peraturan undang-undang atau menurut kebiasaan, juga dalam hal lamanya\n",
    "            hubungan kerja ditetapkan sebelumnya, diharuskan adanya pemberitahuan tentang\n",
    "            pemutusan itu dari kedua belah pihak, dalam hal yang diperbolehkan, tidak mengadakan\n",
    "            penyimpangan dengan perjanjian tertulis atau dengan reglemen. \"\"\"\n",
    "pasal1696 = \"Penitipan murni dianggap dilakukan dengan cuma-cuma bila tidak diperjanjikan sebaliknya. Penitipan demikian hanya mengenai barang-barang bergerak. \"\n",
    "pasal1730 = \"\"\"Sekestrasi ialah penitipan barang yang berada dalam persengketaan kepada orang lain yang\n",
    "            mengikatkan diri untuk mengembalikan barang itu dengan semua hasilnya kepada yang berhak\n",
    "            atasnya setelah perselisihan diputus oleh Pengadilan. Penitipan demikian terjadi karena perjanjian\n",
    "            atau karena perintah Hakim. \"\"\"\n",
    "pasal1750 = \"\"\"Pemberi pinjaman tidak dapat meminta kembali barang yang dipinjamkannya kecuali bila sudah\n",
    "            lewat waktu yang ditentukan, atau dalam ha! tidak ada ketentuan tentang waktu peminjaman itu,\n",
    "            bila barang yang dipinjamkan itu telah atau dianggap telah selesai digunakan untuk tujuan yang\n",
    "            dimaksudkan. \"\"\"\n",
    "\n",
    "pasal1763 = \"Barangsiapa meminjam suatu barang wajib mengembalikannya dalam jumlah dan keadaan yang sama dan pada waktu yang diperjanjikan. \"\n",
    "pasal1807 = \"\"\"Pemberi kuasa wajib memenuhi perikatan-perikatan yang dibuat oleh penerima kuasa menurut\n",
    "            kekuasaan yang telah ía berikan kepadanya.\n",
    "            Ia tidak terikat pada apa yang telah dilakukan di luar kekuasaan itu kecuali jika ía telah menyetujui\n",
    "            hal itu secara tegas atau diam-diam. \n",
    "            \"\"\"\n",
    "\n",
    "pasalHilang = [pasal1413,pasal1533,pasal1601d,pasal1602,pasal1603e,pasal1696,pasal1730,pasal1750,pasal1763,pasal1807]"
   ]
  },
  {
   "cell_type": "code",
   "execution_count": 136,
   "metadata": {},
   "outputs": [],
   "source": [
    "errorAccBagian = [\n",
    "    1413,\n",
    "    1533,\n",
    "    \"1601c\",\n",
    "    1602,\n",
    "    \"1603d\",\n",
    "    1696,\n",
    "    1730,\n",
    "    1750,\n",
    "    1763,\n",
    "    1807,\n",
    "]\n",
    "\n",
    "errorAccBagianNamePasalBagian = [\n",
    "    1413,\n",
    "    1533,\n",
    "    \"1601d\",\n",
    "    1602,\n",
    "    \"1603e\",\n",
    "    1696,\n",
    "    1730,\n",
    "    1750,\n",
    "    1763,\n",
    "    1807,\n",
    "]\n",
    "\n",
    "pasalBeforeBagian = [f\"Pasal {a-1 if type(a) == int else a}\" for a in errorAccBagian]\n",
    "namePasalBagian = [f\"Pasal {a}\" for a in errorAccBagianNamePasalBagian]\n",
    "\n",
    "base_data = tool.insertDataKetinggalan(\n",
    "    base_data,\n",
    "    pasalBeforeBagian,\n",
    "    namePasalBagian,\n",
    "    pasalHilang\n",
    ")"
   ]
  },
  {
   "cell_type": "code",
   "execution_count": null,
   "metadata": {},
   "outputs": [],
   "source": []
  },
  {
   "cell_type": "code",
   "execution_count": 137,
   "metadata": {},
   "outputs": [],
   "source": [
    "startIndex = base_data[base_data[\"Pasal\"] == \"Pasal 1233\"].index[0]\n",
    "endIndex  = base_data[base_data[\"Pasal\"] == \"Pasal 1864\"].index[0]\n",
    "\n",
    "book2 = base_data.loc[startIndex:endIndex]"
   ]
  },
  {
   "cell_type": "markdown",
   "metadata": {},
   "source": [
    "### Load Range Pasal"
   ]
  },
  {
   "cell_type": "code",
   "execution_count": 138,
   "metadata": {},
   "outputs": [],
   "source": [
    "rangePasal = pd.read_csv(\"./range-pasal/Data Range  Pasal - Buku 3 - Bab.csv\")\n",
    "rangePasal.drop(columns=[\"No\"],inplace=True)\n",
    "rangePasal[\"Bab\"] = rangePasal[\"Bab\"].apply(lambda x : x.title())"
   ]
  },
  {
   "cell_type": "code",
   "execution_count": 140,
   "metadata": {},
   "outputs": [
    {
     "data": {
      "application/vnd.jupyter.widget-view+json": {
       "model_id": "7e380313f85147a49f69f0c9b3b4b2dd",
       "version_major": 2,
       "version_minor": 0
      },
      "text/plain": [
       "Inserting Bab: 0it [00:00, ?it/s]"
      ]
     },
     "metadata": {},
     "output_type": "display_data"
    }
   ],
   "source": [
    "errorPasal = tool.iterationInsert(\"Bab\",book2,rangePasal,tool.insertBabToData)"
   ]
  },
  {
   "cell_type": "markdown",
   "metadata": {},
   "source": [
    "##### Bagian"
   ]
  },
  {
   "cell_type": "code",
   "execution_count": 141,
   "metadata": {},
   "outputs": [],
   "source": [
    "rangeBagian = pd.read_csv(\"./range-bagian/Data Range  Pasal - Buku 3 - Bagian.csv\",index_col=[\"No\"])\n",
    "rangeBagian[\"Bagian\"] = rangeBagian[\"Bagian\"].apply(lambda x : x.title())"
   ]
  },
  {
   "cell_type": "code",
   "execution_count": 143,
   "metadata": {},
   "outputs": [
    {
     "data": {
      "application/vnd.jupyter.widget-view+json": {
       "model_id": "f608d0a54e114a11a83ffd15444bcaf0",
       "version_major": 2,
       "version_minor": 0
      },
      "text/plain": [
       "Inserting Bagian: 0it [00:00, ?it/s]"
      ]
     },
     "metadata": {},
     "output_type": "display_data"
    }
   ],
   "source": [
    "errorBagian = tool.iterationInsert(\"Bagian\",book2,rangeBagian,tool.insertBagianToData)"
   ]
  },
  {
   "cell_type": "code",
   "execution_count": 144,
   "metadata": {},
   "outputs": [],
   "source": [
    "errorBagian"
   ]
  },
  {
   "cell_type": "code",
   "execution_count": 145,
   "metadata": {},
   "outputs": [
    {
     "data": {
      "text/html": [
       "<div>\n",
       "<style scoped>\n",
       "    .dataframe tbody tr th:only-of-type {\n",
       "        vertical-align: middle;\n",
       "    }\n",
       "\n",
       "    .dataframe tbody tr th {\n",
       "        vertical-align: top;\n",
       "    }\n",
       "\n",
       "    .dataframe thead th {\n",
       "        text-align: right;\n",
       "    }\n",
       "</style>\n",
       "<table border=\"1\" class=\"dataframe\">\n",
       "  <thead>\n",
       "    <tr style=\"text-align: right;\">\n",
       "      <th></th>\n",
       "      <th>Pasal</th>\n",
       "      <th>Isi</th>\n",
       "    </tr>\n",
       "  </thead>\n",
       "  <tbody>\n",
       "    <tr>\n",
       "      <th>1627</th>\n",
       "      <td>Pasal 1601d</td>\n",
       "      <td>Bila perjanjian kerja diadakan secara tertulis...</td>\n",
       "    </tr>\n",
       "  </tbody>\n",
       "</table>\n",
       "</div>"
      ],
      "text/plain": [
       "            Pasal                                                Isi\n",
       "1627  Pasal 1601d  Bila perjanjian kerja diadakan secara tertulis..."
      ]
     },
     "execution_count": 145,
     "metadata": {},
     "output_type": "execute_result"
    }
   ],
   "source": [
    "tool.lihatPasal(base_data,\"1601d\")"
   ]
  },
  {
   "cell_type": "code",
   "execution_count": 97,
   "metadata": {},
   "outputs": [],
   "source": [
    "errorAccBagian = [\n",
    "    1413,\n",
    "    1533,\n",
    "    \"1601d\",\n",
    "    1602,\n",
    "    \"1603e\",\n",
    "    1696,\n",
    "    1730,\n",
    "    1750,\n",
    "    1763,\n",
    "    1807,\n",
    "]\n",
    "\n",
    "notAccBagin = [\n",
    "    1547,\n",
    "    \"1601y\"\n",
    "\n",
    "]"
   ]
  },
  {
   "cell_type": "code",
   "execution_count": 62,
   "metadata": {},
   "outputs": [],
   "source": []
  },
  {
   "cell_type": "code",
   "execution_count": 152,
   "metadata": {},
   "outputs": [
    {
     "name": "stderr",
     "output_type": "stream",
     "text": [
      "C:\\Users\\Lenovo\\AppData\\Local\\Temp\\ipykernel_4780\\229778210.py:1: SettingWithCopyWarning: \n",
      "A value is trying to be set on a copy of a slice from a DataFrame\n",
      "\n",
      "See the caveats in the documentation: https://pandas.pydata.org/pandas-docs/stable/user_guide/indexing.html#returning-a-view-versus-a-copy\n",
      "  book2.fillna({\"Bagian\":\"Tidak Terdapat Dalam Bagian\"},inplace=True)\n"
     ]
    }
   ],
   "source": [
    "book2.fillna({\"Bagian\":\"Tidak Terdapat Dalam Bagian\"},inplace=True)"
   ]
  },
  {
   "cell_type": "code",
   "execution_count": 155,
   "metadata": {},
   "outputs": [],
   "source": [
    "book2.to_csv(\"./clean_book/book 3.csv\",index=False)"
   ]
  },
  {
   "cell_type": "code",
   "execution_count": 158,
   "metadata": {},
   "outputs": [],
   "source": [
    "base_data.to_csv(\"./new_clean_from_book_3.csv\",index=False)"
   ]
  },
  {
   "cell_type": "code",
   "execution_count": null,
   "metadata": {},
   "outputs": [],
   "source": []
  }
 ],
 "metadata": {
  "kernelspec": {
   "display_name": "KMIPN_V",
   "language": "python",
   "name": "python3"
  },
  "language_info": {
   "codemirror_mode": {
    "name": "ipython",
    "version": 3
   },
   "file_extension": ".py",
   "mimetype": "text/x-python",
   "name": "python",
   "nbconvert_exporter": "python",
   "pygments_lexer": "ipython3",
   "version": "3.11.0"
  }
 },
 "nbformat": 4,
 "nbformat_minor": 2
}
