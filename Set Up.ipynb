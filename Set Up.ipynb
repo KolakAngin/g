{
 "cells": [
  {
   "cell_type": "code",
   "execution_count": 2,
   "id": "d2355ffb-e084-429c-a09f-4f480c152764",
   "metadata": {},
   "outputs": [],
   "source": [
    "import pandas as pd\n",
    "import numpy as np\n",
    "\n",
    "from tqdm.auto import tqdm"
   ]
  },
  {
   "cell_type": "markdown",
   "id": "3fb3bffc",
   "metadata": {},
   "source": [
    "### Preprocessing data"
   ]
  },
  {
   "cell_type": "code",
   "execution_count": 3,
   "id": "3289abca",
   "metadata": {},
   "outputs": [],
   "source": [
    "def insertDataKetinggalan(dataFrame : pd.DataFrame,\n",
    "                          pasalBefore : list,\n",
    "                          namePasal : list,\n",
    "                          pasalChange : list) -> pd.DataFrame :\n",
    "    \n",
    "    for before,name,pasal in zip(pasalBefore,namePasal,pasalChange):\n",
    "        indexBefore = dataFrame[dataFrame[\"Pasal\"] ==  before].index[0] + 0.5\n",
    "        dataFrame.loc[indexBefore] = [name,pasal]\n",
    "        dataFrame = dataFrame.sort_index().reset_index(drop=True)\n",
    "    return dataFrame\n",
    "\n",
    "def lihatPasal(dataFrame : pd.DataFrame, pasal : str | int) -> pd.DataFrame:\n",
    "    return dataFrame[dataFrame[\"Pasal\"] == f\"Pasal {pasal}\"]"
   ]
  },
  {
   "cell_type": "code",
   "execution_count": 4,
   "id": "d0e6ebd8",
   "metadata": {},
   "outputs": [],
   "source": [
    "# pasal ketinggalan\n",
    "pasal331 = \"Dalam setiap perwalian, hanya ada seorang wali, kecuali yang ditentukan dalam Pasal 351 dan 361. Perwalian untuk anak-anak dari bapak dan ibu yang sama, harus dipandang sebagai suatu perwalian, sejauh anak-anak itu mempunyai seorang wali yang sama. \"\n",
    "pasal319m = \"Segala surat-surat permohonan, tuntutan, penetapan. pemberitahuan dan semua surat lain yang dibuat untuk memenuhi ketentuan-ketentuan dalam bagian ini, bebas dan materai. Segala permohonan termaksud dalam bagian ini, yang diajukan oleh dewan perwalian, harus diperiksa oleh Pengadilan Negeri dengan cuma-cuma, dan salinan-salinan yang diminta oleh dewan-dewan itu untuk salinan-salinan yang diperintahkan kepadanya, harus diberikan oleh panitera kepada mereka secara bebas dan segala biaya. \""
   ]
  },
  {
   "cell_type": "code",
   "execution_count": 5,
   "id": "437d65ba",
   "metadata": {},
   "outputs": [],
   "source": [
    "pasal365 = \"\"\"Dalam segala hal, bila Hakim harus mengangkat seorang wali, maka perwalian itu boleh\n",
    "diperintahkan kepada perkumpulan berbadan hukum yang berkedudukan di Indonesia, kepada\n",
    "suatu yayasan atau kepada lembaga sosial yang berkedudukan di Indonesia yang menurut\n",
    "anggaran dasarnya, akta pendiriannya atau reglemennya mengatur pemeliharaan anak belum\n",
    "dewasa untuk waktu yang lama. Pasal 362 tidak berlaku. Perkumpulan, yayasan atau lembaga sosial itu, sehubungan dengan perwalian yang ditugaskan\n",
    "kepadanya, mempunyai hak-hak dan kewajiban-kewajiban yang sama dengan yang diberikan atau\n",
    "yang diperintahkan kepada wali, kecuali jika undang-undang menentukan lain.\n",
    "Para anggota pengurus masing-masing bertanggung jawab secara pribadi dan tanggungmenanggung atas pelaksanaan perwalian itu, selama perwalian itu dilakukan oleh pengurus dan\n",
    "selama anggota-anggota pengurus ini tidak menunjukkan pada Hakim, bahwa mereka telah\n",
    "mencurahkan segala usaha guna melaksanakan perwalian sebagaimana mestinya atau mereka\n",
    "dalam keadaan tidak mampu menjaganya. Pengurus boleh memberi kuasa secara tertulis kepada seorang anggotanya atau lebih untuk\n",
    "melakukan perwalian terhadap anak-anak yang belum dewasa tersebut dalam surat kuasa itu.\n",
    "Pengurus berhak pula atas kehendaknya menyerahkan pengurusan harta kekayaan anak-anak\n",
    "belum dewasa yang dengan tegas ditunjuknya, asalkan secara tertulis, kepada Balai Harta\n",
    "Peninggalan, yang dengan demikian wajib menerima pengurusan itu dan menyelenggarakannya\n",
    "menurut ketentuan-ketentuan yang berlaku terhadapnya. Penyerahan ini tidak dapat dicabut. \n",
    "\"\"\""
   ]
  },
  {
   "cell_type": "code",
   "execution_count": 6,
   "id": "1a9f81cd",
   "metadata": {},
   "outputs": [],
   "source": [
    "base_data = pd.read_csv(\"./new_clean_csv.csv\")\n",
    "base_data.drop(columns=[\"Unnamed: 0\"],inplace=True)"
   ]
  },
  {
   "cell_type": "code",
   "execution_count": 7,
   "id": "8431f719",
   "metadata": {},
   "outputs": [],
   "source": [
    "base_data = insertDataKetinggalan(base_data,\n",
    "                            [\"Pasal 319k\",\"Pasal 330\",\"Pasal 364\"],\n",
    "                            [\"Pasal 319m\",\"Pasal 331\",\"Pasal 365\"],\n",
    "                            [pasal319m,pasal331,pasal365])"
   ]
  },
  {
   "cell_type": "code",
   "execution_count": 9,
   "id": "d37d1f07",
   "metadata": {},
   "outputs": [],
   "source": [
    "base_data.to_csv(\"new_clean_usage.csv\",index=False)"
   ]
  },
  {
   "cell_type": "markdown",
   "id": "ba372cf3",
   "metadata": {},
   "source": [
    "#### Fungsi memasukan dataset bagian "
   ]
  },
  {
   "cell_type": "code",
   "execution_count": 14,
   "id": "4e4fd732",
   "metadata": {},
   "outputs": [],
   "source": [
    "def insertBabToData(dataFrame : pd.DataFrame, rangeBab : list, nameBab : str, returnDf : bool = False) -> None | pd.DataFrame:\n",
    "    rangeBab = [f\"Pasal {a}\" for a in rangeBab]\n",
    "    startLocation = dataFrame[dataFrame[\"Pasal\"] == rangeBab[0]].index[0]\n",
    "    endLocation = dataFrame[dataFrame[\"Pasal\"] == rangeBab[1]].index[0]\n",
    "    \n",
    "    # memasukan data bab\n",
    "    dataFrame.loc[startLocation:endLocation,\"Bab\"] = nameBab\n",
    "    dataFrame[\"Bab\"].astype(\"str\")\n",
    "\n",
    "    if(returnDf):\n",
    "        return dataFrame\n",
    "     \n",
    "\n",
    "    "
   ]
  },
  {
   "cell_type": "markdown",
   "id": "8bd3fafb",
   "metadata": {},
   "source": [
    "### Fungsi Memasukan bagian kedalam Data"
   ]
  },
  {
   "cell_type": "code",
   "execution_count": 15,
   "id": "9afa2355",
   "metadata": {},
   "outputs": [],
   "source": [
    "def insertBagianToData(dataFrame : pd.DataFrame, rangeBab : list, nameBab : str, returnDf : bool = False) -> None | pd.DataFrame:\n",
    "    rangeBab = [f\"Pasal {a}\" for a in rangeBab]\n",
    "    startLocation = dataFrame[dataFrame[\"Pasal\"] == rangeBab[0]].index[0]\n",
    "    if len(rangeBab) == 1:\n",
    "        endLocation = dataFrame[dataFrame[\"Pasal\"] == rangeBab[0]].index[0]\n",
    "    else:\n",
    "        endLocation = dataFrame[dataFrame[\"Pasal\"] == rangeBab[1]].index[0]\n",
    "    \n",
    "    # memasukan data bagian\n",
    "    dataFrame.loc[startLocation:endLocation,\"Bagian\"] = nameBab\n",
    "    dataFrame[\"Bagian\"].astype(\"str\")\n",
    "\n",
    "    if(returnDf):\n",
    "        return dataFrame\n",
    "    "
   ]
  },
  {
   "cell_type": "markdown",
   "id": "98bc8f5a",
   "metadata": {},
   "source": [
    "### Fungsi Iterasi Memasukan Data"
   ]
  },
  {
   "cell_type": "code",
   "execution_count": 16,
   "id": "ce66bb41",
   "metadata": {},
   "outputs": [],
   "source": [
    "def iterationInsert(status : str, dfTarget : pd.DataFrame, dfChange : pd.DataFrame,func : object) -> None:\n",
    "    title =  dfChange[status.title()].tolist()\n",
    "    rangePasal = [a.split(\"-\") for a in dfChange[\"Range Pasal\"]]\n",
    "\n",
    "    for t,r in tqdm(zip(title,rangePasal),desc=f\"Inserting {status}\"):\n",
    "        try :\n",
    "            func(dfTarget,r,t)\n",
    "        except :\n",
    "            print(f\"ada kesalahan di {r}\")\n",
    "            break\n",
    "        print(f\"\\r perulangan ke {r}\",end=\" \")\n"
   ]
  },
  {
   "cell_type": "markdown",
   "id": "dc91ff55",
   "metadata": {},
   "source": [
    "### Buku 1"
   ]
  },
  {
   "cell_type": "code",
   "execution_count": 41,
   "id": "91cb9e80",
   "metadata": {},
   "outputs": [],
   "source": [
    "book1 = base_data.loc[:base_data[base_data[\"Pasal\"] == \"Pasal 495\"].index[0]]\n",
    "\n",
    "rangeBab = pd.read_csv(\"./range-pasal/Data Range  Pasal - Buku 1 -Bab.csv\")\n",
    "rangeBab[\"Bab\"] = rangeBab[\"Bab\"].apply(lambda x : x.title())"
   ]
  },
  {
   "cell_type": "markdown",
   "id": "32c0cc0b",
   "metadata": {},
   "source": [
    "#### Memasukan Bab"
   ]
  },
  {
   "cell_type": "code",
   "execution_count": 42,
   "id": "f5fe48cc",
   "metadata": {},
   "outputs": [
    {
     "data": {
      "application/vnd.jupyter.widget-view+json": {
       "model_id": "481e8f8857c9476e9bf0a97918f824a3",
       "version_major": 2,
       "version_minor": 0
      },
      "text/plain": [
       "Inserting Bab: 0it [00:00, ?it/s]"
      ]
     },
     "metadata": {},
     "output_type": "display_data"
    },
    {
     "name": "stdout",
     "output_type": "stream",
     "text": [
      " perulangan ke ['463', '495']  "
     ]
    },
    {
     "name": "stderr",
     "output_type": "stream",
     "text": [
      "C:\\Users\\Lenovo\\AppData\\Local\\Temp\\ipykernel_1400\\2454618736.py:7: SettingWithCopyWarning: \n",
      "A value is trying to be set on a copy of a slice from a DataFrame.\n",
      "Try using .loc[row_indexer,col_indexer] = value instead\n",
      "\n",
      "See the caveats in the documentation: https://pandas.pydata.org/pandas-docs/stable/user_guide/indexing.html#returning-a-view-versus-a-copy\n",
      "  dataFrame.loc[startLocation:endLocation,\"Bab\"] = nameBab\n",
      "C:\\Users\\Lenovo\\AppData\\Local\\Temp\\ipykernel_1400\\2454618736.py:7: FutureWarning: Setting an item of incompatible dtype is deprecated and will raise in a future error of pandas. Value 'Kitab Undang-Undang Hukum Perdata' has dtype incompatible with float64, please explicitly cast to a compatible dtype first.\n",
      "  dataFrame.loc[startLocation:endLocation,\"Bab\"] = nameBab\n"
     ]
    }
   ],
   "source": [
    "iterationInsert(\"Bab\",book1,rangeBab,insertBabToData)"
   ]
  },
  {
   "cell_type": "markdown",
   "id": "d0726735",
   "metadata": {},
   "source": [
    "#### Memasukan Bagian"
   ]
  },
  {
   "cell_type": "code",
   "execution_count": 43,
   "id": "8db3fe8b",
   "metadata": {},
   "outputs": [],
   "source": [
    "rangeBagian = pd.read_csv(\"./range-bagian/Data Range  Pasal - Buku 1 - Bagian.csv\")\n",
    "rangeBagian.drop(columns=[\"No\"],inplace=True)\n",
    "rangeBagian[\"Bagian\"] = rangeBagian[\"Bagian\"].apply(lambda x : x.title())"
   ]
  },
  {
   "cell_type": "code",
   "execution_count": 44,
   "id": "05e65af2",
   "metadata": {},
   "outputs": [
    {
     "data": {
      "application/vnd.jupyter.widget-view+json": {
       "model_id": "5158bbefae584526b0d0ecef667bd3ee",
       "version_major": 2,
       "version_minor": 0
      },
      "text/plain": [
       "Inserting Bagian: 0it [00:00, ?it/s]"
      ]
     },
     "metadata": {},
     "output_type": "display_data"
    },
    {
     "name": "stderr",
     "output_type": "stream",
     "text": [
      "C:\\Users\\Lenovo\\AppData\\Local\\Temp\\ipykernel_1400\\3510560759.py:10: SettingWithCopyWarning: \n",
      "A value is trying to be set on a copy of a slice from a DataFrame.\n",
      "Try using .loc[row_indexer,col_indexer] = value instead\n",
      "\n",
      "See the caveats in the documentation: https://pandas.pydata.org/pandas-docs/stable/user_guide/indexing.html#returning-a-view-versus-a-copy\n",
      "  dataFrame.loc[startLocation:endLocation,\"Bagian\"] = nameBab\n",
      "C:\\Users\\Lenovo\\AppData\\Local\\Temp\\ipykernel_1400\\3510560759.py:10: FutureWarning: Setting an item of incompatible dtype is deprecated and will raise in a future error of pandas. Value 'Daftar Catatan Sipil Pada Umumnya' has dtype incompatible with float64, please explicitly cast to a compatible dtype first.\n",
      "  dataFrame.loc[startLocation:endLocation,\"Bagian\"] = nameBab\n"
     ]
    },
    {
     "name": "stdout",
     "output_type": "stream",
     "text": [
      " perulangan ke ['493', '495']  "
     ]
    }
   ],
   "source": [
    "iterationInsert(\"Bagian\",book1,rangeBagian,insertBagianToData)"
   ]
  },
  {
   "cell_type": "code",
   "execution_count": 51,
   "id": "8c7922e1",
   "metadata": {},
   "outputs": [
    {
     "name": "stderr",
     "output_type": "stream",
     "text": [
      "C:\\Users\\Lenovo\\AppData\\Local\\Temp\\ipykernel_1400\\2451261974.py:1: SettingWithCopyWarning: \n",
      "A value is trying to be set on a copy of a slice from a DataFrame\n",
      "\n",
      "See the caveats in the documentation: https://pandas.pydata.org/pandas-docs/stable/user_guide/indexing.html#returning-a-view-versus-a-copy\n",
      "  book1[\"Bagian\"].fillna(\"Tidak terdapat Dalam Bagian\",inplace=True)\n"
     ]
    }
   ],
   "source": [
    "book1[\"Bagian\"].fillna(\"Tidak terdapat Dalam Bagian\",inplace=True)"
   ]
  },
  {
   "cell_type": "code",
   "execution_count": 55,
   "id": "edbf554b",
   "metadata": {},
   "outputs": [
    {
     "data": {
      "text/html": [
       "<div>\n",
       "<style scoped>\n",
       "    .dataframe tbody tr th:only-of-type {\n",
       "        vertical-align: middle;\n",
       "    }\n",
       "\n",
       "    .dataframe tbody tr th {\n",
       "        vertical-align: top;\n",
       "    }\n",
       "\n",
       "    .dataframe thead th {\n",
       "        text-align: right;\n",
       "    }\n",
       "</style>\n",
       "<table border=\"1\" class=\"dataframe\">\n",
       "  <thead>\n",
       "    <tr style=\"text-align: right;\">\n",
       "      <th></th>\n",
       "      <th>Pasal</th>\n",
       "      <th>Isi</th>\n",
       "      <th>Bab</th>\n",
       "      <th>Bagian</th>\n",
       "    </tr>\n",
       "  </thead>\n",
       "  <tbody>\n",
       "    <tr>\n",
       "      <th>0</th>\n",
       "      <td>Pasal 1</td>\n",
       "      <td>Menikmati hak-hak kewargaan tidak tergantung p...</td>\n",
       "      <td>Kitab Undang-Undang Hukum Perdata</td>\n",
       "      <td>Tidak terdapat Dalam Bagian</td>\n",
       "    </tr>\n",
       "    <tr>\n",
       "      <th>1</th>\n",
       "      <td>Pasal 2</td>\n",
       "      <td>Anak yang ada dalam kandungan seorang perempua...</td>\n",
       "      <td>Kitab Undang-Undang Hukum Perdata</td>\n",
       "      <td>Tidak terdapat Dalam Bagian</td>\n",
       "    </tr>\n",
       "    <tr>\n",
       "      <th>2</th>\n",
       "      <td>Pasal 3</td>\n",
       "      <td>Tiada suatu hukuman pun yang mengakibatkan kem...</td>\n",
       "      <td>Kitab Undang-Undang Hukum Perdata</td>\n",
       "      <td>Tidak terdapat Dalam Bagian</td>\n",
       "    </tr>\n",
       "    <tr>\n",
       "      <th>3</th>\n",
       "      <td>Pasal 4</td>\n",
       "      <td>Tanpa mengurangi ketentuan dalam Pasal 10 Kete...</td>\n",
       "      <td>Akta-Akta Catatan Sipil</td>\n",
       "      <td>Daftar Catatan Sipil Pada Umumnya</td>\n",
       "    </tr>\n",
       "    <tr>\n",
       "      <th>4</th>\n",
       "      <td>Pasal 5</td>\n",
       "      <td>Presiden, setelah mendengar Mahkamah Agung men...</td>\n",
       "      <td>Acara Yang Harus Mendahului Perkawinan</td>\n",
       "      <td>Daftar Catatan Sipil Pada Umumnya</td>\n",
       "    </tr>\n",
       "    <tr>\n",
       "      <th>...</th>\n",
       "      <td>...</td>\n",
       "      <td>...</td>\n",
       "      <td>...</td>\n",
       "      <td>...</td>\n",
       "    </tr>\n",
       "    <tr>\n",
       "      <th>517</th>\n",
       "      <td>Pasal 491</td>\n",
       "      <td>Ketentuan-ketentuan dari kedua pasal yang lalu...</td>\n",
       "      <td>Ketidakhadiran</td>\n",
       "      <td>Hak-Hak Yang Jatuh Ke Tangan Orang Tak Hadir Y...</td>\n",
       "    </tr>\n",
       "    <tr>\n",
       "      <th>518</th>\n",
       "      <td>Pasal 492</td>\n",
       "      <td>Bila kemudian orang yang dalam keadaan tak had...</td>\n",
       "      <td>Ketidakhadiran</td>\n",
       "      <td>Hak-Hak Yang Jatuh Ke Tangan Orang Tak Hadir Y...</td>\n",
       "    </tr>\n",
       "    <tr>\n",
       "      <th>519</th>\n",
       "      <td>Pasal 493</td>\n",
       "      <td>Bila salah seorang dari suami isteri, selain m...</td>\n",
       "      <td>Ketidakhadiran</td>\n",
       "      <td>Akibat-Akibat Keadaan Tidak Hadir Berkenaan De...</td>\n",
       "    </tr>\n",
       "    <tr>\n",
       "      <th>520</th>\n",
       "      <td>Pasal 494</td>\n",
       "      <td>Bila atas panggilan ketiga dari Pengadilan, ba...</td>\n",
       "      <td>Ketidakhadiran</td>\n",
       "      <td>Akibat-Akibat Keadaan Tidak Hadir Berkenaan De...</td>\n",
       "    </tr>\n",
       "    <tr>\n",
       "      <th>521</th>\n",
       "      <td>Pasal 495</td>\n",
       "      <td>Bila setelah pemberian izin, tetapi sebelum pe...</td>\n",
       "      <td>Ketidakhadiran</td>\n",
       "      <td>Akibat-Akibat Keadaan Tidak Hadir Berkenaan De...</td>\n",
       "    </tr>\n",
       "  </tbody>\n",
       "</table>\n",
       "<p>522 rows × 4 columns</p>\n",
       "</div>"
      ],
      "text/plain": [
       "         Pasal                                                Isi  \\\n",
       "0      Pasal 1  Menikmati hak-hak kewargaan tidak tergantung p...   \n",
       "1      Pasal 2  Anak yang ada dalam kandungan seorang perempua...   \n",
       "2      Pasal 3  Tiada suatu hukuman pun yang mengakibatkan kem...   \n",
       "3      Pasal 4  Tanpa mengurangi ketentuan dalam Pasal 10 Kete...   \n",
       "4      Pasal 5  Presiden, setelah mendengar Mahkamah Agung men...   \n",
       "..         ...                                                ...   \n",
       "517  Pasal 491  Ketentuan-ketentuan dari kedua pasal yang lalu...   \n",
       "518  Pasal 492  Bila kemudian orang yang dalam keadaan tak had...   \n",
       "519  Pasal 493  Bila salah seorang dari suami isteri, selain m...   \n",
       "520  Pasal 494  Bila atas panggilan ketiga dari Pengadilan, ba...   \n",
       "521  Pasal 495  Bila setelah pemberian izin, tetapi sebelum pe...   \n",
       "\n",
       "                                        Bab  \\\n",
       "0         Kitab Undang-Undang Hukum Perdata   \n",
       "1         Kitab Undang-Undang Hukum Perdata   \n",
       "2         Kitab Undang-Undang Hukum Perdata   \n",
       "3                   Akta-Akta Catatan Sipil   \n",
       "4    Acara Yang Harus Mendahului Perkawinan   \n",
       "..                                      ...   \n",
       "517                          Ketidakhadiran   \n",
       "518                          Ketidakhadiran   \n",
       "519                          Ketidakhadiran   \n",
       "520                          Ketidakhadiran   \n",
       "521                          Ketidakhadiran   \n",
       "\n",
       "                                                Bagian  \n",
       "0                          Tidak terdapat Dalam Bagian  \n",
       "1                          Tidak terdapat Dalam Bagian  \n",
       "2                          Tidak terdapat Dalam Bagian  \n",
       "3                    Daftar Catatan Sipil Pada Umumnya  \n",
       "4                    Daftar Catatan Sipil Pada Umumnya  \n",
       "..                                                 ...  \n",
       "517  Hak-Hak Yang Jatuh Ke Tangan Orang Tak Hadir Y...  \n",
       "518  Hak-Hak Yang Jatuh Ke Tangan Orang Tak Hadir Y...  \n",
       "519  Akibat-Akibat Keadaan Tidak Hadir Berkenaan De...  \n",
       "520  Akibat-Akibat Keadaan Tidak Hadir Berkenaan De...  \n",
       "521  Akibat-Akibat Keadaan Tidak Hadir Berkenaan De...  \n",
       "\n",
       "[522 rows x 4 columns]"
      ]
     },
     "execution_count": 55,
     "metadata": {},
     "output_type": "execute_result"
    }
   ],
   "source": [
    "book1"
   ]
  },
  {
   "cell_type": "code",
   "execution_count": 56,
   "id": "d4c7d2d7",
   "metadata": {},
   "outputs": [
    {
     "data": {
      "text/html": [
       "<div>\n",
       "<style scoped>\n",
       "    .dataframe tbody tr th:only-of-type {\n",
       "        vertical-align: middle;\n",
       "    }\n",
       "\n",
       "    .dataframe tbody tr th {\n",
       "        vertical-align: top;\n",
       "    }\n",
       "\n",
       "    .dataframe thead th {\n",
       "        text-align: right;\n",
       "    }\n",
       "</style>\n",
       "<table border=\"1\" class=\"dataframe\">\n",
       "  <thead>\n",
       "    <tr style=\"text-align: right;\">\n",
       "      <th></th>\n",
       "      <th>Pasal</th>\n",
       "      <th>Isi</th>\n",
       "      <th>Bab</th>\n",
       "      <th>Bagian</th>\n",
       "    </tr>\n",
       "  </thead>\n",
       "  <tbody>\n",
       "    <tr>\n",
       "      <th>count</th>\n",
       "      <td>522</td>\n",
       "      <td>522</td>\n",
       "      <td>521</td>\n",
       "      <td>522</td>\n",
       "    </tr>\n",
       "    <tr>\n",
       "      <th>unique</th>\n",
       "      <td>522</td>\n",
       "      <td>522</td>\n",
       "      <td>17</td>\n",
       "      <td>46</td>\n",
       "    </tr>\n",
       "    <tr>\n",
       "      <th>top</th>\n",
       "      <td>Pasal 1</td>\n",
       "      <td>Menikmati hak-hak kewargaan tidak tergantung p...</td>\n",
       "      <td>Acara Yang Harus Mendahului Perkawinan</td>\n",
       "      <td>Tidak terdapat Dalam Bagian</td>\n",
       "    </tr>\n",
       "    <tr>\n",
       "      <th>freq</th>\n",
       "      <td>1</td>\n",
       "      <td>1</td>\n",
       "      <td>114</td>\n",
       "      <td>121</td>\n",
       "    </tr>\n",
       "  </tbody>\n",
       "</table>\n",
       "</div>"
      ],
      "text/plain": [
       "          Pasal                                                Isi  \\\n",
       "count       522                                                522   \n",
       "unique      522                                                522   \n",
       "top     Pasal 1  Menikmati hak-hak kewargaan tidak tergantung p...   \n",
       "freq          1                                                  1   \n",
       "\n",
       "                                           Bab                       Bagian  \n",
       "count                                      521                          522  \n",
       "unique                                      17                           46  \n",
       "top     Acara Yang Harus Mendahului Perkawinan  Tidak terdapat Dalam Bagian  \n",
       "freq                                       114                          121  "
      ]
     },
     "execution_count": 56,
     "metadata": {},
     "output_type": "execute_result"
    }
   ],
   "source": [
    "book1.describe()"
   ]
  },
  {
   "cell_type": "code",
   "execution_count": 60,
   "id": "0c4a79e8",
   "metadata": {},
   "outputs": [],
   "source": [
    "book1.to_csv(\"./clean_book/book 1.csv\",index=False)"
   ]
  },
  {
   "cell_type": "code",
   "execution_count": 1,
   "id": "c6fb167c",
   "metadata": {},
   "outputs": [
    {
     "ename": "NameError",
     "evalue": "name 'base_data' is not defined",
     "output_type": "error",
     "traceback": [
      "\u001b[1;31m---------------------------------------------------------------------------\u001b[0m",
      "\u001b[1;31mNameError\u001b[0m                                 Traceback (most recent call last)",
      "Cell \u001b[1;32mIn[1], line 1\u001b[0m\n\u001b[1;32m----> 1\u001b[0m \u001b[43mbase_data\u001b[49m\n",
      "\u001b[1;31mNameError\u001b[0m: name 'base_data' is not defined"
     ]
    }
   ],
   "source": []
  }
 ],
 "metadata": {
  "kernelspec": {
   "display_name": "KMIPN_V",
   "language": "python",
   "name": "python3"
  },
  "language_info": {
   "codemirror_mode": {
    "name": "ipython",
    "version": 3
   },
   "file_extension": ".py",
   "mimetype": "text/x-python",
   "name": "python",
   "nbconvert_exporter": "python",
   "pygments_lexer": "ipython3",
   "version": "3.11.0"
  }
 },
 "nbformat": 4,
 "nbformat_minor": 5
}
