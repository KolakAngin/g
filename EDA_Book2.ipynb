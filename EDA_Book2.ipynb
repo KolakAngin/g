{
 "cells": [
  {
   "cell_type": "code",
   "execution_count": 1,
   "metadata": {},
   "outputs": [],
   "source": [
    "import pandas as pd\n",
    "import numpy as np\n",
    "\n",
    "from tqdm.auto import tqdm\n",
    "\n",
    "import MyLib.Util as tool"
   ]
  },
  {
   "cell_type": "markdown",
   "metadata": {},
   "source": [
    "## Load data"
   ]
  },
  {
   "cell_type": "markdown",
   "metadata": {},
   "source": [
    "#### Pasal Ketinggalan"
   ]
  },
  {
   "cell_type": "code",
   "execution_count": 2,
   "metadata": {},
   "outputs": [],
   "source": [
    "pasal503 = \"Ada barang yang bertubuh, dan ada barang yang tak bertubuh.\"\n",
    "pasal703 = \"Pengabdian pekarangan berakhir bila pekarangan tersebut berada dalam keadaan sedemikian rupa sehingga tidak lagi dapat digunakan.\"\n",
    "pasal852 = \"\"\"\n",
    "            Anak-anak atau keturunan-keturunan, sekalipun dilahirkan dan berbagai perkawinan, mewarisi\n",
    "            harta peninggalan para orangtua mereka, kakek dan nenek mereka, atau keluarga-keluarga\n",
    "            sedarah mereka selanjutnya dalam garis lurus ke atas, tanpa membedakan jenis kelamin atau\n",
    "            kelahiran yang lebih dulu.\n",
    "            Mereka mewarisi bagian-bagian yang sama besarnya kepala demi kepala, bila dengan yang\n",
    "            meninggal mereka semua bertalian keluarga dalam derajat pertama dan masing-masing berhak\n",
    "            karena dirinya sendiri; mereka mewarisi pancang demi pancang, bila mereka semua atas sebagian\n",
    "            mewarisi sebagai pengganti. \"\"\"\n",
    "pasal954 = \"\"\"Wasiat pengangkatan ahli waris ialah suatu wasiat, di mana pewaris memberikan kepada satu\n",
    "            orang atau lebih harta benda yang ditinggalkannya pada waktu dia meninggal dunia, baik\n",
    "            seluruhnya maupun sebagian, seperti seperdua atau sepertiga\"\"\"\n",
    "pasal1100 = \"\"\"Para ahli waris yang telah bersedia menerima warisan, harus ikut memikul pembayaran utang,\n",
    "            hibah wasiat dan beban-beban lain, seimbang dengan apa yang diterima masing-masing dari\n",
    "            warisan itu\"\"\""
   ]
  },
  {
   "cell_type": "code",
   "execution_count": 3,
   "metadata": {},
   "outputs": [],
   "source": [
    "bagianBermasalah = [\n",
    "    503,\n",
    "    703,\n",
    "    852,\n",
    "    954,\n",
    "    1100\n",
    "]\n",
    "\n",
    "namaPasal = [\n",
    "    \"Pasal 503\",\n",
    "    \"Pasal 703\",\n",
    "    \"Pasal 852\",\n",
    "    \"Pasal 954\",\n",
    "    \"Pasal 1100\"\n",
    "]\n",
    "\n",
    "pasalInsert = [pasal503,pasal703,pasal852,pasal954,pasal1100]"
   ]
  },
  {
   "cell_type": "code",
   "execution_count": 4,
   "metadata": {},
   "outputs": [],
   "source": [
    "base_data = pd.read_csv(\"new_clean_usage.csv\")\n",
    "base_data = tool.insertDataKetinggalan(base_data,[f\"Pasal {a-1}\" for a in bagianBermasalah],namaPasal,pasalInsert)"
   ]
  },
  {
   "cell_type": "code",
   "execution_count": 5,
   "metadata": {},
   "outputs": [],
   "source": [
    "startIndex = base_data[base_data[\"Pasal\"] == \"Pasal 499\"].index[0]\n",
    "endIndex = base_data[base_data[\"Pasal\"] == \"Pasal 1232\"].index[0]\n",
    "book2 = base_data.loc[startIndex:endIndex]"
   ]
  },
  {
   "cell_type": "markdown",
   "metadata": {},
   "source": [
    "#### Range Bab"
   ]
  },
  {
   "cell_type": "code",
   "execution_count": 6,
   "metadata": {},
   "outputs": [],
   "source": [
    "rangeBab = pd.read_csv(\"./range-pasal/Data Range  Pasal - Buku 2 - Bab.csv\",index_col=[\"No\"])\n",
    "rangeBab[\"Bab\"] = rangeBab.apply({\"Bab\":lambda x : x.title()}) # type: ignore"
   ]
  },
  {
   "cell_type": "code",
   "execution_count": 7,
   "metadata": {},
   "outputs": [
    {
     "data": {
      "application/vnd.jupyter.widget-view+json": {
       "model_id": "86fbafc270f1498fb987b657550f418b",
       "version_major": 2,
       "version_minor": 0
      },
      "text/plain": [
       "Inserting Bab: 0it [00:00, ?it/s]"
      ]
     },
     "metadata": {},
     "output_type": "display_data"
    },
    {
     "name": "stderr",
     "output_type": "stream",
     "text": [
      "c:\\Users\\Lenovo\\Downloads\\KMPIN_V\\MyLib\\Util.py:30: SettingWithCopyWarning: \n",
      "A value is trying to be set on a copy of a slice from a DataFrame.\n",
      "Try using .loc[row_indexer,col_indexer] = value instead\n",
      "\n",
      "See the caveats in the documentation: https://pandas.pydata.org/pandas-docs/stable/user_guide/indexing.html#returning-a-view-versus-a-copy\n",
      "  dataFrame.loc[startLocation:endLocation,\"Bab\"] = nameBab\n",
      "c:\\Users\\Lenovo\\Downloads\\KMPIN_V\\MyLib\\Util.py:30: FutureWarning: Setting an item of incompatible dtype is deprecated and will raise in a future error of pandas. Value 'Barang Dan Pembagiannya' has dtype incompatible with float64, please explicitly cast to a compatible dtype first.\n",
      "  dataFrame.loc[startLocation:endLocation,\"Bab\"] = nameBab\n"
     ]
    }
   ],
   "source": [
    "listOfErrorBab = tool.iterationInsert(\"Bab\",book2,rangeBab,tool.insertBabToData)"
   ]
  },
  {
   "cell_type": "code",
   "execution_count": 34,
   "metadata": {},
   "outputs": [],
   "source": [
    "listOfErrorBab"
   ]
  },
  {
   "cell_type": "markdown",
   "metadata": {},
   "source": [
    "#### Bagian"
   ]
  },
  {
   "cell_type": "code",
   "execution_count": 35,
   "metadata": {},
   "outputs": [],
   "source": [
    "rangeBagian = pd.read_csv(\"./range-bagian/Data Range  Pasal - Buku 2 - Bagian.csv\")\n",
    "rangeBagian.drop(columns=[\" \"],inplace=True)\n",
    "rangeBagian[\"Bagian\"] = rangeBagian.apply({\"Bagian\": lambda x : x.title()})"
   ]
  },
  {
   "cell_type": "code",
   "execution_count": 36,
   "metadata": {},
   "outputs": [
    {
     "data": {
      "application/vnd.jupyter.widget-view+json": {
       "model_id": "8370ee1ab90f44b08b3bf0881f13160e",
       "version_major": 2,
       "version_minor": 0
      },
      "text/plain": [
       "Inserting Bagian: 0it [00:00, ?it/s]"
      ]
     },
     "metadata": {},
     "output_type": "display_data"
    },
    {
     "name": "stdout",
     "output_type": "stream",
     "text": [
      " perulangan ke ['1221', '1232'] "
     ]
    },
    {
     "name": "stderr",
     "output_type": "stream",
     "text": [
      "c:\\Users\\Lenovo\\Downloads\\KMPIN_V\\MyLib\\Util.py:47: SettingWithCopyWarning: \n",
      "A value is trying to be set on a copy of a slice from a DataFrame.\n",
      "Try using .loc[row_indexer,col_indexer] = value instead\n",
      "\n",
      "See the caveats in the documentation: https://pandas.pydata.org/pandas-docs/stable/user_guide/indexing.html#returning-a-view-versus-a-copy\n",
      "  dataFrame.loc[startLocation:endLocation,\"Bagian\"] = nameBab\n",
      "c:\\Users\\Lenovo\\Downloads\\KMPIN_V\\MyLib\\Util.py:47: FutureWarning: Setting an item of incompatible dtype is deprecated and will raise in a future error of pandas. Value 'Barang Pada Umumnya' has dtype incompatible with float64, please explicitly cast to a compatible dtype first.\n",
      "  dataFrame.loc[startLocation:endLocation,\"Bagian\"] = nameBab\n"
     ]
    }
   ],
   "source": [
    "tool.iterationInsert(\"Bagian\",book2,rangeBagian,tool.insertBagianToData)"
   ]
  },
  {
   "cell_type": "code",
   "execution_count": 38,
   "metadata": {},
   "outputs": [
    {
     "data": {
      "text/html": [
       "<div>\n",
       "<style scoped>\n",
       "    .dataframe tbody tr th:only-of-type {\n",
       "        vertical-align: middle;\n",
       "    }\n",
       "\n",
       "    .dataframe tbody tr th {\n",
       "        vertical-align: top;\n",
       "    }\n",
       "\n",
       "    .dataframe thead th {\n",
       "        text-align: right;\n",
       "    }\n",
       "</style>\n",
       "<table border=\"1\" class=\"dataframe\">\n",
       "  <thead>\n",
       "    <tr style=\"text-align: right;\">\n",
       "      <th></th>\n",
       "      <th>Pasal</th>\n",
       "      <th>Isi</th>\n",
       "      <th>Bab</th>\n",
       "      <th>Bagian</th>\n",
       "    </tr>\n",
       "  </thead>\n",
       "  <tbody>\n",
       "    <tr>\n",
       "      <th>525</th>\n",
       "      <td>Pasal 502</td>\n",
       "      <td>Hasil alami adalah: segala sesuatu yang dihasi...</td>\n",
       "      <td>Barang Dan Pembagiannya</td>\n",
       "      <td>Barang Pada Umumnya</td>\n",
       "    </tr>\n",
       "  </tbody>\n",
       "</table>\n",
       "</div>"
      ],
      "text/plain": [
       "         Pasal                                                Isi  \\\n",
       "525  Pasal 502  Hasil alami adalah: segala sesuatu yang dihasi...   \n",
       "\n",
       "                         Bab               Bagian  \n",
       "525  Barang Dan Pembagiannya  Barang Pada Umumnya  "
      ]
     },
     "execution_count": 38,
     "metadata": {},
     "output_type": "execute_result"
    }
   ],
   "source": [
    "tool.lihatPasal(book2,502)"
   ]
  },
  {
   "cell_type": "code",
   "execution_count": 43,
   "metadata": {},
   "outputs": [
    {
     "data": {
      "text/html": [
       "<div>\n",
       "<style scoped>\n",
       "    .dataframe tbody tr th:only-of-type {\n",
       "        vertical-align: middle;\n",
       "    }\n",
       "\n",
       "    .dataframe tbody tr th {\n",
       "        vertical-align: top;\n",
       "    }\n",
       "\n",
       "    .dataframe thead th {\n",
       "        text-align: right;\n",
       "    }\n",
       "</style>\n",
       "<table border=\"1\" class=\"dataframe\">\n",
       "  <thead>\n",
       "    <tr style=\"text-align: right;\">\n",
       "      <th></th>\n",
       "      <th>Pasal</th>\n",
       "      <th>Isi</th>\n",
       "      <th>Bab</th>\n",
       "      <th>Bagian</th>\n",
       "    </tr>\n",
       "  </thead>\n",
       "  <tbody>\n",
       "    <tr>\n",
       "      <th>645</th>\n",
       "      <td>Pasal 625</td>\n",
       "      <td>Para pemilik pekarangan yang bertetangga mempu...</td>\n",
       "      <td>Hak Dan Kewajiban Antara Para Pemilik Pekarang...</td>\n",
       "      <td>NaN</td>\n",
       "    </tr>\n",
       "    <tr>\n",
       "      <th>646</th>\n",
       "      <td>Pasal 626</td>\n",
       "      <td>Pemilik pekarangan yang lebih rendah letaknya,...</td>\n",
       "      <td>Hak Dan Kewajiban Antara Para Pemilik Pekarang...</td>\n",
       "      <td>NaN</td>\n",
       "    </tr>\n",
       "    <tr>\n",
       "      <th>647</th>\n",
       "      <td>Pasal 627</td>\n",
       "      <td>Barangsiapa mempunyai sebuah mata air di pekar...</td>\n",
       "      <td>Hak Dan Kewajiban Antara Para Pemilik Pekarang...</td>\n",
       "      <td>NaN</td>\n",
       "    </tr>\n",
       "    <tr>\n",
       "      <th>648</th>\n",
       "      <td>Pasal 628</td>\n",
       "      <td>Pemilik mata air tidak boleh mengubah jalan al...</td>\n",
       "      <td>Hak Dan Kewajiban Antara Para Pemilik Pekarang...</td>\n",
       "      <td>NaN</td>\n",
       "    </tr>\n",
       "    <tr>\n",
       "      <th>649</th>\n",
       "      <td>Pasal 629</td>\n",
       "      <td>Barangsiapa mempunyai pekarangan di tepi alira...</td>\n",
       "      <td>Hak Dan Kewajiban Antara Para Pemilik Pekarang...</td>\n",
       "      <td>NaN</td>\n",
       "    </tr>\n",
       "    <tr>\n",
       "      <th>...</th>\n",
       "      <td>...</td>\n",
       "      <td>...</td>\n",
       "      <td>...</td>\n",
       "      <td>...</td>\n",
       "    </tr>\n",
       "    <tr>\n",
       "      <th>1182</th>\n",
       "      <td>Pasal 1156</td>\n",
       "      <td>Dalam segala hal, bila debitur atau pemberi ga...</td>\n",
       "      <td>Gadai</td>\n",
       "      <td>NaN</td>\n",
       "    </tr>\n",
       "    <tr>\n",
       "      <th>1183</th>\n",
       "      <td>Pasal 1157</td>\n",
       "      <td>Kreditur bertanggung jawab atas kerugian atau ...</td>\n",
       "      <td>Gadai</td>\n",
       "      <td>NaN</td>\n",
       "    </tr>\n",
       "    <tr>\n",
       "      <th>1184</th>\n",
       "      <td>Pasal 1158</td>\n",
       "      <td>Bila suatu piutang digadaikan, dan piutang ini...</td>\n",
       "      <td>Gadai</td>\n",
       "      <td>NaN</td>\n",
       "    </tr>\n",
       "    <tr>\n",
       "      <th>1185</th>\n",
       "      <td>Pasal 1159</td>\n",
       "      <td>Selama pemegang gadai itu tidak menyalahgunaka...</td>\n",
       "      <td>Gadai</td>\n",
       "      <td>NaN</td>\n",
       "    </tr>\n",
       "    <tr>\n",
       "      <th>1186</th>\n",
       "      <td>Pasal 1160</td>\n",
       "      <td>Gadai itu tidak dapat dibagi-bagi, meskipun ut...</td>\n",
       "      <td>Gadai</td>\n",
       "      <td>NaN</td>\n",
       "    </tr>\n",
       "  </tbody>\n",
       "</table>\n",
       "<p>163 rows × 4 columns</p>\n",
       "</div>"
      ],
      "text/plain": [
       "           Pasal                                                Isi  \\\n",
       "645    Pasal 625  Para pemilik pekarangan yang bertetangga mempu...   \n",
       "646    Pasal 626  Pemilik pekarangan yang lebih rendah letaknya,...   \n",
       "647    Pasal 627  Barangsiapa mempunyai sebuah mata air di pekar...   \n",
       "648    Pasal 628  Pemilik mata air tidak boleh mengubah jalan al...   \n",
       "649    Pasal 629  Barangsiapa mempunyai pekarangan di tepi alira...   \n",
       "...          ...                                                ...   \n",
       "1182  Pasal 1156  Dalam segala hal, bila debitur atau pemberi ga...   \n",
       "1183  Pasal 1157  Kreditur bertanggung jawab atas kerugian atau ...   \n",
       "1184  Pasal 1158  Bila suatu piutang digadaikan, dan piutang ini...   \n",
       "1185  Pasal 1159  Selama pemegang gadai itu tidak menyalahgunaka...   \n",
       "1186  Pasal 1160  Gadai itu tidak dapat dibagi-bagi, meskipun ut...   \n",
       "\n",
       "                                                    Bab Bagian  \n",
       "645   Hak Dan Kewajiban Antara Para Pemilik Pekarang...    NaN  \n",
       "646   Hak Dan Kewajiban Antara Para Pemilik Pekarang...    NaN  \n",
       "647   Hak Dan Kewajiban Antara Para Pemilik Pekarang...    NaN  \n",
       "648   Hak Dan Kewajiban Antara Para Pemilik Pekarang...    NaN  \n",
       "649   Hak Dan Kewajiban Antara Para Pemilik Pekarang...    NaN  \n",
       "...                                                 ...    ...  \n",
       "1182                                              Gadai    NaN  \n",
       "1183                                              Gadai    NaN  \n",
       "1184                                              Gadai    NaN  \n",
       "1185                                              Gadai    NaN  \n",
       "1186                                              Gadai    NaN  \n",
       "\n",
       "[163 rows x 4 columns]"
      ]
     },
     "execution_count": 43,
     "metadata": {},
     "output_type": "execute_result"
    }
   ],
   "source": [
    "book2[book2[\"Bagian\"].isnull()]"
   ]
  },
  {
   "cell_type": "code",
   "execution_count": 50,
   "metadata": {},
   "outputs": [
    {
     "name": "stderr",
     "output_type": "stream",
     "text": [
      "C:\\Users\\Lenovo\\AppData\\Local\\Temp\\ipykernel_7428\\1892726596.py:1: SettingWithCopyWarning: \n",
      "A value is trying to be set on a copy of a slice from a DataFrame\n",
      "\n",
      "See the caveats in the documentation: https://pandas.pydata.org/pandas-docs/stable/user_guide/indexing.html#returning-a-view-versus-a-copy\n",
      "  book2[\"Bagian\"].fillna(\"Tidak Terdapat Dalam Bagian\",inplace=True)\n"
     ]
    }
   ],
   "source": [
    "book2[\"Bagian\"].fillna(\"Tidak Terdapat Dalam Bagian\",inplace=True)"
   ]
  },
  {
   "cell_type": "code",
   "execution_count": 53,
   "metadata": {},
   "outputs": [],
   "source": [
    "book2.to_csv(\"./clean_book/book2.csv\",index=False)"
   ]
  },
  {
   "cell_type": "code",
   "execution_count": 54,
   "metadata": {},
   "outputs": [],
   "source": [
    "base_data.to_csv(\"./new_clean_from_book2.csv\",index=False)"
   ]
  },
  {
   "cell_type": "code",
   "execution_count": null,
   "metadata": {},
   "outputs": [],
   "source": []
  }
 ],
 "metadata": {
  "kernelspec": {
   "display_name": "KMIPN_V",
   "language": "python",
   "name": "python3"
  },
  "language_info": {
   "codemirror_mode": {
    "name": "ipython",
    "version": 3
   },
   "file_extension": ".py",
   "mimetype": "text/x-python",
   "name": "python",
   "nbconvert_exporter": "python",
   "pygments_lexer": "ipython3",
   "version": "3.11.0"
  }
 },
 "nbformat": 4,
 "nbformat_minor": 2
}
