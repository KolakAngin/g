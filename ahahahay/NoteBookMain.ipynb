{
 "cells": [
  {
   "cell_type": "code",
   "execution_count": 11,
   "metadata": {},
   "outputs": [],
   "source": [
    "# data working libary\n",
    "import pandas as pd\n",
    "import numpy as np\n",
    "\n",
    "\n",
    "# deep learning libary\n",
    "import torch\n",
    "from transformers import AutoModel, AutoTokenizer\n",
    "\n",
    "# Utilites Libary\n",
    "from tqdm.auto import tqdm\n",
    "from sklearn.metrics.pairwise import cosine_similarity\n",
    "from MyLib.Utilities import IndoBertModelRep"
   ]
  },
  {
   "cell_type": "markdown",
   "metadata": {},
   "source": [
    "# Load Data"
   ]
  },
  {
   "cell_type": "code",
   "execution_count": 12,
   "metadata": {},
   "outputs": [],
   "source": [
    "baseData = pd.read_csv(\"./data/dataset.csv\")\n",
    "listData = baseData.Isi.tolist()"
   ]
  },
  {
   "cell_type": "markdown",
   "metadata": {},
   "source": [
    "# Load Model"
   ]
  },
  {
   "cell_type": "code",
   "execution_count": 13,
   "metadata": {},
   "outputs": [
    {
     "data": {
      "application/vnd.jupyter.widget-view+json": {
       "model_id": "d74180253798461eb0ac4c1cc24c2921",
       "version_major": 2,
       "version_minor": 0
      },
      "text/plain": [
       "transforming tokens:   0%|          | 0/5 [00:00<?, ?it/s]"
      ]
     },
     "metadata": {},
     "output_type": "display_data"
    }
   ],
   "source": [
    "model = IndoBertModelRep(listData[:5])"
   ]
  },
  {
   "cell_type": "markdown",
   "metadata": {},
   "source": [
    "## Testing Prediction"
   ]
  },
  {
   "cell_type": "code",
   "execution_count": 14,
   "metadata": {},
   "outputs": [
    {
     "data": {
      "application/vnd.jupyter.widget-view+json": {
       "model_id": "ec4844e66e8f4b118063d852656a5e9f",
       "version_major": 2,
       "version_minor": 0
      },
      "text/plain": [
       "Training:   0%|          | 0/3 [00:00<?, ?it/s]"
      ]
     },
     "metadata": {},
     "output_type": "display_data"
    },
    {
     "data": {
      "text/html": [
       "<div>\n",
       "<style scoped>\n",
       "    .dataframe tbody tr th:only-of-type {\n",
       "        vertical-align: middle;\n",
       "    }\n",
       "\n",
       "    .dataframe tbody tr th {\n",
       "        vertical-align: top;\n",
       "    }\n",
       "\n",
       "    .dataframe thead th {\n",
       "        text-align: right;\n",
       "    }\n",
       "</style>\n",
       "<table border=\"1\" class=\"dataframe\">\n",
       "  <thead>\n",
       "    <tr style=\"text-align: right;\">\n",
       "      <th></th>\n",
       "      <th>0</th>\n",
       "      <th>1</th>\n",
       "      <th>2</th>\n",
       "      <th>3</th>\n",
       "      <th>4</th>\n",
       "      <th>5</th>\n",
       "      <th>6</th>\n",
       "      <th>7</th>\n",
       "      <th>8</th>\n",
       "      <th>9</th>\n",
       "      <th>...</th>\n",
       "      <th>758</th>\n",
       "      <th>759</th>\n",
       "      <th>760</th>\n",
       "      <th>761</th>\n",
       "      <th>762</th>\n",
       "      <th>763</th>\n",
       "      <th>764</th>\n",
       "      <th>765</th>\n",
       "      <th>766</th>\n",
       "      <th>767</th>\n",
       "    </tr>\n",
       "  </thead>\n",
       "  <tbody>\n",
       "    <tr>\n",
       "      <th>0</th>\n",
       "      <td>-0.761045</td>\n",
       "      <td>-0.709757</td>\n",
       "      <td>0.909030</td>\n",
       "      <td>0.437635</td>\n",
       "      <td>0.279120</td>\n",
       "      <td>-0.928241</td>\n",
       "      <td>0.344509</td>\n",
       "      <td>0.341682</td>\n",
       "      <td>-0.023158</td>\n",
       "      <td>0.867788</td>\n",
       "      <td>...</td>\n",
       "      <td>-0.226692</td>\n",
       "      <td>0.303870</td>\n",
       "      <td>0.074755</td>\n",
       "      <td>0.129440</td>\n",
       "      <td>-0.261591</td>\n",
       "      <td>-0.283898</td>\n",
       "      <td>1.256523</td>\n",
       "      <td>0.985545</td>\n",
       "      <td>-0.044319</td>\n",
       "      <td>-0.004940</td>\n",
       "    </tr>\n",
       "    <tr>\n",
       "      <th>1</th>\n",
       "      <td>-0.148623</td>\n",
       "      <td>0.422687</td>\n",
       "      <td>0.631739</td>\n",
       "      <td>-0.052750</td>\n",
       "      <td>0.257958</td>\n",
       "      <td>-0.218959</td>\n",
       "      <td>-0.298142</td>\n",
       "      <td>0.168570</td>\n",
       "      <td>0.049852</td>\n",
       "      <td>1.164452</td>\n",
       "      <td>...</td>\n",
       "      <td>-0.235537</td>\n",
       "      <td>-0.567633</td>\n",
       "      <td>-0.394888</td>\n",
       "      <td>0.432861</td>\n",
       "      <td>-0.044941</td>\n",
       "      <td>-0.346878</td>\n",
       "      <td>0.499489</td>\n",
       "      <td>0.718912</td>\n",
       "      <td>0.376147</td>\n",
       "      <td>0.598184</td>\n",
       "    </tr>\n",
       "    <tr>\n",
       "      <th>2</th>\n",
       "      <td>-0.211517</td>\n",
       "      <td>-0.076270</td>\n",
       "      <td>0.920100</td>\n",
       "      <td>0.289120</td>\n",
       "      <td>0.729705</td>\n",
       "      <td>-0.882746</td>\n",
       "      <td>-0.046888</td>\n",
       "      <td>0.207160</td>\n",
       "      <td>-0.491770</td>\n",
       "      <td>1.196646</td>\n",
       "      <td>...</td>\n",
       "      <td>-0.611195</td>\n",
       "      <td>0.275531</td>\n",
       "      <td>-0.152839</td>\n",
       "      <td>-0.757432</td>\n",
       "      <td>-0.596600</td>\n",
       "      <td>0.127545</td>\n",
       "      <td>-0.091879</td>\n",
       "      <td>0.158900</td>\n",
       "      <td>0.068856</td>\n",
       "      <td>0.872876</td>\n",
       "    </tr>\n",
       "    <tr>\n",
       "      <th>3</th>\n",
       "      <td>-0.487513</td>\n",
       "      <td>0.480990</td>\n",
       "      <td>0.757479</td>\n",
       "      <td>0.395799</td>\n",
       "      <td>0.095389</td>\n",
       "      <td>-0.532911</td>\n",
       "      <td>-0.860657</td>\n",
       "      <td>0.758361</td>\n",
       "      <td>0.533177</td>\n",
       "      <td>0.052654</td>\n",
       "      <td>...</td>\n",
       "      <td>0.201894</td>\n",
       "      <td>-0.417932</td>\n",
       "      <td>-0.341456</td>\n",
       "      <td>0.097244</td>\n",
       "      <td>0.000644</td>\n",
       "      <td>-0.975596</td>\n",
       "      <td>0.245799</td>\n",
       "      <td>0.530606</td>\n",
       "      <td>-0.505319</td>\n",
       "      <td>0.221170</td>\n",
       "    </tr>\n",
       "    <tr>\n",
       "      <th>4</th>\n",
       "      <td>0.125290</td>\n",
       "      <td>0.791539</td>\n",
       "      <td>0.416609</td>\n",
       "      <td>0.781668</td>\n",
       "      <td>-0.055229</td>\n",
       "      <td>-0.217871</td>\n",
       "      <td>-0.494227</td>\n",
       "      <td>0.949064</td>\n",
       "      <td>0.579342</td>\n",
       "      <td>0.005496</td>\n",
       "      <td>...</td>\n",
       "      <td>0.182095</td>\n",
       "      <td>-0.576178</td>\n",
       "      <td>-0.502916</td>\n",
       "      <td>-0.025782</td>\n",
       "      <td>-0.055154</td>\n",
       "      <td>-0.885915</td>\n",
       "      <td>0.861456</td>\n",
       "      <td>0.262853</td>\n",
       "      <td>-0.651098</td>\n",
       "      <td>0.508318</td>\n",
       "    </tr>\n",
       "  </tbody>\n",
       "</table>\n",
       "<p>5 rows × 768 columns</p>\n",
       "</div>"
      ],
      "text/plain": [
       "        0         1         2         3         4         5         6    \\\n",
       "0 -0.761045 -0.709757  0.909030  0.437635  0.279120 -0.928241  0.344509   \n",
       "1 -0.148623  0.422687  0.631739 -0.052750  0.257958 -0.218959 -0.298142   \n",
       "2 -0.211517 -0.076270  0.920100  0.289120  0.729705 -0.882746 -0.046888   \n",
       "3 -0.487513  0.480990  0.757479  0.395799  0.095389 -0.532911 -0.860657   \n",
       "4  0.125290  0.791539  0.416609  0.781668 -0.055229 -0.217871 -0.494227   \n",
       "\n",
       "        7         8         9    ...       758       759       760       761  \\\n",
       "0  0.341682 -0.023158  0.867788  ... -0.226692  0.303870  0.074755  0.129440   \n",
       "1  0.168570  0.049852  1.164452  ... -0.235537 -0.567633 -0.394888  0.432861   \n",
       "2  0.207160 -0.491770  1.196646  ... -0.611195  0.275531 -0.152839 -0.757432   \n",
       "3  0.758361  0.533177  0.052654  ...  0.201894 -0.417932 -0.341456  0.097244   \n",
       "4  0.949064  0.579342  0.005496  ...  0.182095 -0.576178 -0.502916 -0.025782   \n",
       "\n",
       "        762       763       764       765       766       767  \n",
       "0 -0.261591 -0.283898  1.256523  0.985545 -0.044319 -0.004940  \n",
       "1 -0.044941 -0.346878  0.499489  0.718912  0.376147  0.598184  \n",
       "2 -0.596600  0.127545 -0.091879  0.158900  0.068856  0.872876  \n",
       "3  0.000644 -0.975596  0.245799  0.530606 -0.505319  0.221170  \n",
       "4 -0.055154 -0.885915  0.861456  0.262853 -0.651098  0.508318  \n",
       "\n",
       "[5 rows x 768 columns]"
      ]
     },
     "execution_count": 14,
     "metadata": {},
     "output_type": "execute_result"
    }
   ],
   "source": [
    "model.fit_transform(2)"
   ]
  },
  {
   "cell_type": "code",
   "execution_count": 15,
   "metadata": {},
   "outputs": [
    {
     "data": {
      "application/vnd.jupyter.widget-view+json": {
       "model_id": "49d728f1123f4d4eb339d086b9924125",
       "version_major": 2,
       "version_minor": 0
      },
      "text/plain": [
       "transforming tokens:   0%|          | 0/1 [00:00<?, ?it/s]"
      ]
     },
     "metadata": {},
     "output_type": "display_data"
    }
   ],
   "source": [
    "(result,data) = model.transformSentence(\"Permsalahan tentang Hukum Negara\",True)"
   ]
  }
 ],
 "metadata": {
  "kernelspec": {
   "display_name": "KMIPN_V",
   "language": "python",
   "name": "python3"
  },
  "language_info": {
   "codemirror_mode": {
    "name": "ipython",
    "version": 3
   },
   "file_extension": ".py",
   "mimetype": "text/x-python",
   "name": "python",
   "nbconvert_exporter": "python",
   "pygments_lexer": "ipython3",
   "version": "3.11.0"
  }
 },
 "nbformat": 4,
 "nbformat_minor": 2
}
