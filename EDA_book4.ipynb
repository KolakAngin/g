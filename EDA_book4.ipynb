{
 "cells": [
  {
   "cell_type": "code",
   "execution_count": 1,
   "metadata": {},
   "outputs": [],
   "source": [
    "import pandas as pd\n",
    "import numpy as np\n",
    "\n",
    "import MyLib.Util as tool"
   ]
  },
  {
   "cell_type": "markdown",
   "metadata": {},
   "source": [
    "### Baca Data"
   ]
  },
  {
   "cell_type": "code",
   "execution_count": 2,
   "metadata": {},
   "outputs": [],
   "source": [
    "baseData = pd.read_csv(\"./new_clean_from_book_3.csv\")\n",
    "\n",
    "startIndex = baseData[baseData[\"Pasal\"] == \"Pasal 1865\"].index[0]\n",
    "endIndex = baseData[baseData[\"Pasal\"] == \"Pasal 1993\"].index[0]\n",
    "\n",
    "book4 = baseData.loc[startIndex:endIndex]"
   ]
  },
  {
   "cell_type": "markdown",
   "metadata": {},
   "source": [
    "### Load Range Pasal"
   ]
  },
  {
   "cell_type": "code",
   "execution_count": 3,
   "metadata": {},
   "outputs": [
    {
     "data": {
      "text/html": [
       "<div>\n",
       "<style scoped>\n",
       "    .dataframe tbody tr th:only-of-type {\n",
       "        vertical-align: middle;\n",
       "    }\n",
       "\n",
       "    .dataframe tbody tr th {\n",
       "        vertical-align: top;\n",
       "    }\n",
       "\n",
       "    .dataframe thead th {\n",
       "        text-align: right;\n",
       "    }\n",
       "</style>\n",
       "<table border=\"1\" class=\"dataframe\">\n",
       "  <thead>\n",
       "    <tr style=\"text-align: right;\">\n",
       "      <th></th>\n",
       "      <th>No</th>\n",
       "      <th>Range Pasal</th>\n",
       "      <th>Bab</th>\n",
       "    </tr>\n",
       "  </thead>\n",
       "  <tbody>\n",
       "    <tr>\n",
       "      <th>0</th>\n",
       "      <td>1</td>\n",
       "      <td>1865-1866</td>\n",
       "      <td>Pembuktian Pada Umumnya</td>\n",
       "    </tr>\n",
       "    <tr>\n",
       "      <th>1</th>\n",
       "      <td>2</td>\n",
       "      <td>1867-1894</td>\n",
       "      <td>Pembuktian Dengan Tulisan</td>\n",
       "    </tr>\n",
       "    <tr>\n",
       "      <th>2</th>\n",
       "      <td>3</td>\n",
       "      <td>1895-1993</td>\n",
       "      <td>Pembuktian Dengan Saksi-Saksi</td>\n",
       "    </tr>\n",
       "  </tbody>\n",
       "</table>\n",
       "</div>"
      ],
      "text/plain": [
       "   No Range Pasal                            Bab\n",
       "0   1   1865-1866        Pembuktian Pada Umumnya\n",
       "1   2   1867-1894      Pembuktian Dengan Tulisan\n",
       "2   3   1895-1993  Pembuktian Dengan Saksi-Saksi"
      ]
     },
     "execution_count": 3,
     "metadata": {},
     "output_type": "execute_result"
    }
   ],
   "source": [
    "rangePasal = pd.read_csv(\"./range-pasal/Data Range  Pasal -  Buku 4 - Bab.csv\")\n",
    "rangePasal[\"Bab\"] = rangePasal[\"Bab\"].apply(lambda x : x.title())\n",
    "rangePasal\n"
   ]
  },
  {
   "cell_type": "code",
   "execution_count": 4,
   "metadata": {},
   "outputs": [
    {
     "data": {
      "application/vnd.jupyter.widget-view+json": {
       "model_id": "a95a40bc6036474d8d05cff734746f0b",
       "version_major": 2,
       "version_minor": 0
      },
      "text/plain": [
       "Inserting Bab: 0it [00:00, ?it/s]"
      ]
     },
     "metadata": {},
     "output_type": "display_data"
    },
    {
     "name": "stderr",
     "output_type": "stream",
     "text": [
      "c:\\Users\\Lenovo\\Downloads\\KMPIN_V\\MyLib\\Util.py:30: SettingWithCopyWarning: \n",
      "A value is trying to be set on a copy of a slice from a DataFrame.\n",
      "Try using .loc[row_indexer,col_indexer] = value instead\n",
      "\n",
      "See the caveats in the documentation: https://pandas.pydata.org/pandas-docs/stable/user_guide/indexing.html#returning-a-view-versus-a-copy\n",
      "  dataFrame.loc[startLocation:endLocation,\"Bab\"] = nameBab\n",
      "c:\\Users\\Lenovo\\Downloads\\KMPIN_V\\MyLib\\Util.py:30: FutureWarning: Setting an item of incompatible dtype is deprecated and will raise in a future error of pandas. Value 'Pembuktian Pada Umumnya' has dtype incompatible with float64, please explicitly cast to a compatible dtype first.\n",
      "  dataFrame.loc[startLocation:endLocation,\"Bab\"] = nameBab\n"
     ]
    }
   ],
   "source": [
    "tool.iterationInsert(\"Bab\",book4,rangePasal,tool.insertBabToData)"
   ]
  },
  {
   "cell_type": "markdown",
   "metadata": {},
   "source": [
    "### Range Bagian"
   ]
  },
  {
   "cell_type": "code",
   "execution_count": 5,
   "metadata": {},
   "outputs": [],
   "source": [
    "rangeBagian = pd.read_csv(\"./range-bagian/Data Range  Pasal -  Buku 4 - Bagian.csv\",index_col=[\"No\"])\n",
    "rangeBagian[\"Bagian\"] = rangeBagian[\"Bagian\"].apply(lambda x : x.title())\n"
   ]
  },
  {
   "cell_type": "code",
   "execution_count": 6,
   "metadata": {},
   "outputs": [
    {
     "data": {
      "application/vnd.jupyter.widget-view+json": {
       "model_id": "73aeb14555944b10979c5d8e5aca9159",
       "version_major": 2,
       "version_minor": 0
      },
      "text/plain": [
       "Inserting Bagian: 0it [00:00, ?it/s]"
      ]
     },
     "metadata": {},
     "output_type": "display_data"
    },
    {
     "name": "stderr",
     "output_type": "stream",
     "text": [
      "c:\\Users\\Lenovo\\Downloads\\KMPIN_V\\MyLib\\Util.py:47: SettingWithCopyWarning: \n",
      "A value is trying to be set on a copy of a slice from a DataFrame.\n",
      "Try using .loc[row_indexer,col_indexer] = value instead\n",
      "\n",
      "See the caveats in the documentation: https://pandas.pydata.org/pandas-docs/stable/user_guide/indexing.html#returning-a-view-versus-a-copy\n",
      "  dataFrame.loc[startLocation:endLocation,\"Bagian\"] = nameBab\n",
      "c:\\Users\\Lenovo\\Downloads\\KMPIN_V\\MyLib\\Util.py:47: FutureWarning: Setting an item of incompatible dtype is deprecated and will raise in a future error of pandas. Value 'Lewat Waktu Pada Umumnya' has dtype incompatible with float64, please explicitly cast to a compatible dtype first.\n",
      "  dataFrame.loc[startLocation:endLocation,\"Bagian\"] = nameBab\n"
     ]
    }
   ],
   "source": [
    "tool.iterationInsert(\"Bagian\",book4,rangeBagian,tool.insertBagianToData)"
   ]
  },
  {
   "cell_type": "code",
   "execution_count": 7,
   "metadata": {},
   "outputs": [
    {
     "name": "stderr",
     "output_type": "stream",
     "text": [
      "C:\\Users\\Lenovo\\AppData\\Local\\Temp\\ipykernel_6980\\819864440.py:1: SettingWithCopyWarning: \n",
      "A value is trying to be set on a copy of a slice from a DataFrame\n",
      "\n",
      "See the caveats in the documentation: https://pandas.pydata.org/pandas-docs/stable/user_guide/indexing.html#returning-a-view-versus-a-copy\n",
      "  book4[\"Bagian\"].fillna(\"Tidak Terdapat Dalam Bagian\",inplace=True)\n"
     ]
    }
   ],
   "source": [
    "book4[\"Bagian\"].fillna(\"Tidak Terdapat Dalam Bagian\",inplace=True)"
   ]
  },
  {
   "cell_type": "code",
   "execution_count": 8,
   "metadata": {},
   "outputs": [],
   "source": [
    "book4.to_csv(\"./clean_book/book 4.csv\",index=False)"
   ]
  },
  {
   "cell_type": "markdown",
   "metadata": {},
   "source": [
    "# Menyatukan semua bab menjadi satu"
   ]
  },
  {
   "cell_type": "code",
   "execution_count": 9,
   "metadata": {},
   "outputs": [],
   "source": [
    "book1 = pd.read_csv(\"./clean_book/book 1.csv\")\n",
    "book2 = pd.read_csv(\"./clean_book/book2.csv\")\n",
    "book3 = pd.read_csv(\"./clean_book/book 3.csv\")\n",
    "book4 = pd.read_csv(\"./clean_book/book 4.csv\")"
   ]
  },
  {
   "cell_type": "code",
   "execution_count": 10,
   "metadata": {},
   "outputs": [],
   "source": [
    "book1.insert(2,\"Buku\",1)\n",
    "book2.insert(2,\"Buku\",2)\n",
    "book3.insert(2,\"Buku\",3)\n",
    "book4.insert(2,\"Buku\",4)"
   ]
  },
  {
   "cell_type": "code",
   "execution_count": 11,
   "metadata": {},
   "outputs": [
    {
     "data": {
      "text/html": [
       "<div>\n",
       "<style scoped>\n",
       "    .dataframe tbody tr th:only-of-type {\n",
       "        vertical-align: middle;\n",
       "    }\n",
       "\n",
       "    .dataframe tbody tr th {\n",
       "        vertical-align: top;\n",
       "    }\n",
       "\n",
       "    .dataframe thead th {\n",
       "        text-align: right;\n",
       "    }\n",
       "</style>\n",
       "<table border=\"1\" class=\"dataframe\">\n",
       "  <thead>\n",
       "    <tr style=\"text-align: right;\">\n",
       "      <th></th>\n",
       "      <th>Pasal</th>\n",
       "      <th>Isi</th>\n",
       "      <th>Buku</th>\n",
       "      <th>Bab</th>\n",
       "      <th>Bagian</th>\n",
       "    </tr>\n",
       "  </thead>\n",
       "  <tbody>\n",
       "    <tr>\n",
       "      <th>0</th>\n",
       "      <td>Pasal 1</td>\n",
       "      <td>Menikmati hak-hak kewargaan tidak tergantung p...</td>\n",
       "      <td>1</td>\n",
       "      <td>Kitab Undang-Undang Hukum Perdata</td>\n",
       "      <td>Tidak terdapat Dalam Bagian</td>\n",
       "    </tr>\n",
       "    <tr>\n",
       "      <th>1</th>\n",
       "      <td>Pasal 2</td>\n",
       "      <td>Anak yang ada dalam kandungan seorang perempua...</td>\n",
       "      <td>1</td>\n",
       "      <td>Kitab Undang-Undang Hukum Perdata</td>\n",
       "      <td>Tidak terdapat Dalam Bagian</td>\n",
       "    </tr>\n",
       "    <tr>\n",
       "      <th>2</th>\n",
       "      <td>Pasal 3</td>\n",
       "      <td>Tiada suatu hukuman pun yang mengakibatkan kem...</td>\n",
       "      <td>1</td>\n",
       "      <td>Kitab Undang-Undang Hukum Perdata</td>\n",
       "      <td>Tidak terdapat Dalam Bagian</td>\n",
       "    </tr>\n",
       "    <tr>\n",
       "      <th>3</th>\n",
       "      <td>Pasal 4</td>\n",
       "      <td>Tanpa mengurangi ketentuan dalam Pasal 10 Kete...</td>\n",
       "      <td>1</td>\n",
       "      <td>Akta-Akta Catatan Sipil</td>\n",
       "      <td>Daftar Catatan Sipil Pada Umumnya</td>\n",
       "    </tr>\n",
       "    <tr>\n",
       "      <th>4</th>\n",
       "      <td>Pasal 5</td>\n",
       "      <td>Presiden, setelah mendengar Mahkamah Agung men...</td>\n",
       "      <td>1</td>\n",
       "      <td>Acara Yang Harus Mendahului Perkawinan</td>\n",
       "      <td>Daftar Catatan Sipil Pada Umumnya</td>\n",
       "    </tr>\n",
       "    <tr>\n",
       "      <th>...</th>\n",
       "      <td>...</td>\n",
       "      <td>...</td>\n",
       "      <td>...</td>\n",
       "      <td>...</td>\n",
       "      <td>...</td>\n",
       "    </tr>\n",
       "    <tr>\n",
       "      <th>2069</th>\n",
       "      <td>Pasal 1989</td>\n",
       "      <td>Lewat waktu tidak berlaku terhadap seorang ist...</td>\n",
       "      <td>4</td>\n",
       "      <td>Pembuktian Dengan Saksi-Saksi</td>\n",
       "      <td>Sebab-Sebab Yang Menangguhkan Lewat Waktu</td>\n",
       "    </tr>\n",
       "    <tr>\n",
       "      <th>2070</th>\n",
       "      <td>Pasal 1990</td>\n",
       "      <td>Lewat waktu tidak berjalan: terhadap piutang y...</td>\n",
       "      <td>4</td>\n",
       "      <td>Pembuktian Dengan Saksi-Saksi</td>\n",
       "      <td>Sebab-Sebab Yang Menangguhkan Lewat Waktu</td>\n",
       "    </tr>\n",
       "    <tr>\n",
       "      <th>2071</th>\n",
       "      <td>Pasal 1991</td>\n",
       "      <td>Terhadap seorang ahli waris yang telah menerim...</td>\n",
       "      <td>4</td>\n",
       "      <td>Pembuktian Dengan Saksi-Saksi</td>\n",
       "      <td>Sebab-Sebab Yang Menangguhkan Lewat Waktu</td>\n",
       "    </tr>\n",
       "    <tr>\n",
       "      <th>2072</th>\n",
       "      <td>Pasal 1992</td>\n",
       "      <td>Lewat waktu itu berlaku selama ahli waris masi...</td>\n",
       "      <td>4</td>\n",
       "      <td>Pembuktian Dengan Saksi-Saksi</td>\n",
       "      <td>Sebab-Sebab Yang Menangguhkan Lewat Waktu</td>\n",
       "    </tr>\n",
       "    <tr>\n",
       "      <th>2073</th>\n",
       "      <td>Pasal 1993</td>\n",
       "      <td>Lewat waktu yang sudah mulai berjalan sebelum ...</td>\n",
       "      <td>4</td>\n",
       "      <td>Pembuktian Dengan Saksi-Saksi</td>\n",
       "      <td>Sebab-Sebab Yang Menangguhkan Lewat Waktu</td>\n",
       "    </tr>\n",
       "  </tbody>\n",
       "</table>\n",
       "<p>2074 rows × 5 columns</p>\n",
       "</div>"
      ],
      "text/plain": [
       "           Pasal                                                Isi  Buku  \\\n",
       "0        Pasal 1  Menikmati hak-hak kewargaan tidak tergantung p...     1   \n",
       "1        Pasal 2  Anak yang ada dalam kandungan seorang perempua...     1   \n",
       "2        Pasal 3  Tiada suatu hukuman pun yang mengakibatkan kem...     1   \n",
       "3        Pasal 4  Tanpa mengurangi ketentuan dalam Pasal 10 Kete...     1   \n",
       "4        Pasal 5  Presiden, setelah mendengar Mahkamah Agung men...     1   \n",
       "...          ...                                                ...   ...   \n",
       "2069  Pasal 1989  Lewat waktu tidak berlaku terhadap seorang ist...     4   \n",
       "2070  Pasal 1990  Lewat waktu tidak berjalan: terhadap piutang y...     4   \n",
       "2071  Pasal 1991  Terhadap seorang ahli waris yang telah menerim...     4   \n",
       "2072  Pasal 1992  Lewat waktu itu berlaku selama ahli waris masi...     4   \n",
       "2073  Pasal 1993  Lewat waktu yang sudah mulai berjalan sebelum ...     4   \n",
       "\n",
       "                                         Bab  \\\n",
       "0          Kitab Undang-Undang Hukum Perdata   \n",
       "1          Kitab Undang-Undang Hukum Perdata   \n",
       "2          Kitab Undang-Undang Hukum Perdata   \n",
       "3                    Akta-Akta Catatan Sipil   \n",
       "4     Acara Yang Harus Mendahului Perkawinan   \n",
       "...                                      ...   \n",
       "2069           Pembuktian Dengan Saksi-Saksi   \n",
       "2070           Pembuktian Dengan Saksi-Saksi   \n",
       "2071           Pembuktian Dengan Saksi-Saksi   \n",
       "2072           Pembuktian Dengan Saksi-Saksi   \n",
       "2073           Pembuktian Dengan Saksi-Saksi   \n",
       "\n",
       "                                         Bagian  \n",
       "0                   Tidak terdapat Dalam Bagian  \n",
       "1                   Tidak terdapat Dalam Bagian  \n",
       "2                   Tidak terdapat Dalam Bagian  \n",
       "3             Daftar Catatan Sipil Pada Umumnya  \n",
       "4             Daftar Catatan Sipil Pada Umumnya  \n",
       "...                                         ...  \n",
       "2069  Sebab-Sebab Yang Menangguhkan Lewat Waktu  \n",
       "2070  Sebab-Sebab Yang Menangguhkan Lewat Waktu  \n",
       "2071  Sebab-Sebab Yang Menangguhkan Lewat Waktu  \n",
       "2072  Sebab-Sebab Yang Menangguhkan Lewat Waktu  \n",
       "2073  Sebab-Sebab Yang Menangguhkan Lewat Waktu  \n",
       "\n",
       "[2074 rows x 5 columns]"
      ]
     },
     "execution_count": 11,
     "metadata": {},
     "output_type": "execute_result"
    }
   ],
   "source": [
    "finalChapter = pd.concat([book1,book2,book3,book4])\n",
    "finalChapter.reset_index(drop=True)"
   ]
  },
  {
   "cell_type": "code",
   "execution_count": 12,
   "metadata": {},
   "outputs": [
    {
     "data": {
      "text/html": [
       "<div>\n",
       "<style scoped>\n",
       "    .dataframe tbody tr th:only-of-type {\n",
       "        vertical-align: middle;\n",
       "    }\n",
       "\n",
       "    .dataframe tbody tr th {\n",
       "        vertical-align: top;\n",
       "    }\n",
       "\n",
       "    .dataframe thead th {\n",
       "        text-align: right;\n",
       "    }\n",
       "</style>\n",
       "<table border=\"1\" class=\"dataframe\">\n",
       "  <thead>\n",
       "    <tr style=\"text-align: right;\">\n",
       "      <th></th>\n",
       "      <th>Pasal</th>\n",
       "      <th>Isi</th>\n",
       "      <th>Buku</th>\n",
       "      <th>Bab</th>\n",
       "      <th>Bagian</th>\n",
       "    </tr>\n",
       "  </thead>\n",
       "  <tbody>\n",
       "    <tr>\n",
       "      <th>0</th>\n",
       "      <td>Pasal 1</td>\n",
       "      <td>Menikmati hak-hak kewargaan tidak tergantung p...</td>\n",
       "      <td>1</td>\n",
       "      <td>Kitab Undang-Undang Hukum Perdata</td>\n",
       "      <td>Tidak terdapat Dalam Bagian</td>\n",
       "    </tr>\n",
       "    <tr>\n",
       "      <th>1</th>\n",
       "      <td>Pasal 2</td>\n",
       "      <td>Anak yang ada dalam kandungan seorang perempua...</td>\n",
       "      <td>1</td>\n",
       "      <td>Kitab Undang-Undang Hukum Perdata</td>\n",
       "      <td>Tidak terdapat Dalam Bagian</td>\n",
       "    </tr>\n",
       "    <tr>\n",
       "      <th>2</th>\n",
       "      <td>Pasal 3</td>\n",
       "      <td>Tiada suatu hukuman pun yang mengakibatkan kem...</td>\n",
       "      <td>1</td>\n",
       "      <td>Kitab Undang-Undang Hukum Perdata</td>\n",
       "      <td>Tidak terdapat Dalam Bagian</td>\n",
       "    </tr>\n",
       "    <tr>\n",
       "      <th>3</th>\n",
       "      <td>Pasal 4</td>\n",
       "      <td>Tanpa mengurangi ketentuan dalam Pasal 10 Kete...</td>\n",
       "      <td>1</td>\n",
       "      <td>Akta-Akta Catatan Sipil</td>\n",
       "      <td>Daftar Catatan Sipil Pada Umumnya</td>\n",
       "    </tr>\n",
       "    <tr>\n",
       "      <th>4</th>\n",
       "      <td>Pasal 5</td>\n",
       "      <td>Presiden, setelah mendengar Mahkamah Agung men...</td>\n",
       "      <td>1</td>\n",
       "      <td>Acara Yang Harus Mendahului Perkawinan</td>\n",
       "      <td>Daftar Catatan Sipil Pada Umumnya</td>\n",
       "    </tr>\n",
       "    <tr>\n",
       "      <th>...</th>\n",
       "      <td>...</td>\n",
       "      <td>...</td>\n",
       "      <td>...</td>\n",
       "      <td>...</td>\n",
       "      <td>...</td>\n",
       "    </tr>\n",
       "    <tr>\n",
       "      <th>114</th>\n",
       "      <td>Pasal 1989</td>\n",
       "      <td>Lewat waktu tidak berlaku terhadap seorang ist...</td>\n",
       "      <td>4</td>\n",
       "      <td>Pembuktian Dengan Saksi-Saksi</td>\n",
       "      <td>Sebab-Sebab Yang Menangguhkan Lewat Waktu</td>\n",
       "    </tr>\n",
       "    <tr>\n",
       "      <th>115</th>\n",
       "      <td>Pasal 1990</td>\n",
       "      <td>Lewat waktu tidak berjalan: terhadap piutang y...</td>\n",
       "      <td>4</td>\n",
       "      <td>Pembuktian Dengan Saksi-Saksi</td>\n",
       "      <td>Sebab-Sebab Yang Menangguhkan Lewat Waktu</td>\n",
       "    </tr>\n",
       "    <tr>\n",
       "      <th>116</th>\n",
       "      <td>Pasal 1991</td>\n",
       "      <td>Terhadap seorang ahli waris yang telah menerim...</td>\n",
       "      <td>4</td>\n",
       "      <td>Pembuktian Dengan Saksi-Saksi</td>\n",
       "      <td>Sebab-Sebab Yang Menangguhkan Lewat Waktu</td>\n",
       "    </tr>\n",
       "    <tr>\n",
       "      <th>117</th>\n",
       "      <td>Pasal 1992</td>\n",
       "      <td>Lewat waktu itu berlaku selama ahli waris masi...</td>\n",
       "      <td>4</td>\n",
       "      <td>Pembuktian Dengan Saksi-Saksi</td>\n",
       "      <td>Sebab-Sebab Yang Menangguhkan Lewat Waktu</td>\n",
       "    </tr>\n",
       "    <tr>\n",
       "      <th>118</th>\n",
       "      <td>Pasal 1993</td>\n",
       "      <td>Lewat waktu yang sudah mulai berjalan sebelum ...</td>\n",
       "      <td>4</td>\n",
       "      <td>Pembuktian Dengan Saksi-Saksi</td>\n",
       "      <td>Sebab-Sebab Yang Menangguhkan Lewat Waktu</td>\n",
       "    </tr>\n",
       "  </tbody>\n",
       "</table>\n",
       "<p>2074 rows × 5 columns</p>\n",
       "</div>"
      ],
      "text/plain": [
       "          Pasal                                                Isi  Buku  \\\n",
       "0       Pasal 1  Menikmati hak-hak kewargaan tidak tergantung p...     1   \n",
       "1       Pasal 2  Anak yang ada dalam kandungan seorang perempua...     1   \n",
       "2       Pasal 3  Tiada suatu hukuman pun yang mengakibatkan kem...     1   \n",
       "3       Pasal 4  Tanpa mengurangi ketentuan dalam Pasal 10 Kete...     1   \n",
       "4       Pasal 5  Presiden, setelah mendengar Mahkamah Agung men...     1   \n",
       "..          ...                                                ...   ...   \n",
       "114  Pasal 1989  Lewat waktu tidak berlaku terhadap seorang ist...     4   \n",
       "115  Pasal 1990  Lewat waktu tidak berjalan: terhadap piutang y...     4   \n",
       "116  Pasal 1991  Terhadap seorang ahli waris yang telah menerim...     4   \n",
       "117  Pasal 1992  Lewat waktu itu berlaku selama ahli waris masi...     4   \n",
       "118  Pasal 1993  Lewat waktu yang sudah mulai berjalan sebelum ...     4   \n",
       "\n",
       "                                        Bab  \\\n",
       "0         Kitab Undang-Undang Hukum Perdata   \n",
       "1         Kitab Undang-Undang Hukum Perdata   \n",
       "2         Kitab Undang-Undang Hukum Perdata   \n",
       "3                   Akta-Akta Catatan Sipil   \n",
       "4    Acara Yang Harus Mendahului Perkawinan   \n",
       "..                                      ...   \n",
       "114           Pembuktian Dengan Saksi-Saksi   \n",
       "115           Pembuktian Dengan Saksi-Saksi   \n",
       "116           Pembuktian Dengan Saksi-Saksi   \n",
       "117           Pembuktian Dengan Saksi-Saksi   \n",
       "118           Pembuktian Dengan Saksi-Saksi   \n",
       "\n",
       "                                        Bagian  \n",
       "0                  Tidak terdapat Dalam Bagian  \n",
       "1                  Tidak terdapat Dalam Bagian  \n",
       "2                  Tidak terdapat Dalam Bagian  \n",
       "3            Daftar Catatan Sipil Pada Umumnya  \n",
       "4            Daftar Catatan Sipil Pada Umumnya  \n",
       "..                                         ...  \n",
       "114  Sebab-Sebab Yang Menangguhkan Lewat Waktu  \n",
       "115  Sebab-Sebab Yang Menangguhkan Lewat Waktu  \n",
       "116  Sebab-Sebab Yang Menangguhkan Lewat Waktu  \n",
       "117  Sebab-Sebab Yang Menangguhkan Lewat Waktu  \n",
       "118  Sebab-Sebab Yang Menangguhkan Lewat Waktu  \n",
       "\n",
       "[2074 rows x 5 columns]"
      ]
     },
     "execution_count": 12,
     "metadata": {},
     "output_type": "execute_result"
    }
   ],
   "source": [
    "finalChapter"
   ]
  },
  {
   "cell_type": "code",
   "execution_count": 13,
   "metadata": {},
   "outputs": [
    {
     "data": {
      "text/html": [
       "<div>\n",
       "<style scoped>\n",
       "    .dataframe tbody tr th:only-of-type {\n",
       "        vertical-align: middle;\n",
       "    }\n",
       "\n",
       "    .dataframe tbody tr th {\n",
       "        vertical-align: top;\n",
       "    }\n",
       "\n",
       "    .dataframe thead th {\n",
       "        text-align: right;\n",
       "    }\n",
       "</style>\n",
       "<table border=\"1\" class=\"dataframe\">\n",
       "  <thead>\n",
       "    <tr style=\"text-align: right;\">\n",
       "      <th></th>\n",
       "      <th>Pasal</th>\n",
       "      <th>Isi</th>\n",
       "      <th>Buku</th>\n",
       "      <th>Bab</th>\n",
       "      <th>Bagian</th>\n",
       "    </tr>\n",
       "  </thead>\n",
       "  <tbody>\n",
       "    <tr>\n",
       "      <th>99</th>\n",
       "      <td>Pasal 100</td>\n",
       "      <td>Adanya suatu perkawinan tidak dapat dibuktikan...</td>\n",
       "      <td>1</td>\n",
       "      <td>Acara Yang Harus Mendahului Perkawinan</td>\n",
       "      <td>Bukti Adanya Suatu Perkawinan</td>\n",
       "    </tr>\n",
       "  </tbody>\n",
       "</table>\n",
       "</div>"
      ],
      "text/plain": [
       "        Pasal                                                Isi  Buku  \\\n",
       "99  Pasal 100  Adanya suatu perkawinan tidak dapat dibuktikan...     1   \n",
       "\n",
       "                                       Bab                         Bagian  \n",
       "99  Acara Yang Harus Mendahului Perkawinan  Bukti Adanya Suatu Perkawinan  "
      ]
     },
     "execution_count": 13,
     "metadata": {},
     "output_type": "execute_result"
    }
   ],
   "source": [
    "tool.lihatPasal(finalChapter,100)"
   ]
  },
  {
   "cell_type": "code",
   "execution_count": 15,
   "metadata": {},
   "outputs": [],
   "source": [
    "finalChapter.to_csv(\"./clean_book/final_dataset.csv\",index=False)"
   ]
  },
  {
   "cell_type": "code",
   "execution_count": 25,
   "metadata": {},
   "outputs": [],
   "source": [
    "import MyLib"
   ]
  },
  {
   "cell_type": "code",
   "execution_count": 26,
   "metadata": {},
   "outputs": [
    {
     "ename": "AttributeError",
     "evalue": "module 'MyLib' has no attribute '__version__'",
     "output_type": "error",
     "traceback": [
      "\u001b[1;31m---------------------------------------------------------------------------\u001b[0m",
      "\u001b[1;31mAttributeError\u001b[0m                            Traceback (most recent call last)",
      "Cell \u001b[1;32mIn[26], line 1\u001b[0m\n\u001b[1;32m----> 1\u001b[0m \u001b[43mMyLib\u001b[49m\u001b[38;5;241;43m.\u001b[39;49m\u001b[43m__version__\u001b[49m\n",
      "\u001b[1;31mAttributeError\u001b[0m: module 'MyLib' has no attribute '__version__'"
     ]
    }
   ],
   "source": [
    "MyLib.__version__"
   ]
  },
  {
   "cell_type": "code",
   "execution_count": 24,
   "metadata": {},
   "outputs": [
    {
     "data": {
      "text/plain": [
       "'1.3.1'"
      ]
     },
     "execution_count": 24,
     "metadata": {},
     "output_type": "execute_result"
    }
   ],
   "source": [
    "sklearn.__version__"
   ]
  }
 ],
 "metadata": {
  "kernelspec": {
   "display_name": "KMIPN_V",
   "language": "python",
   "name": "python3"
  },
  "language_info": {
   "codemirror_mode": {
    "name": "ipython",
    "version": 3
   },
   "file_extension": ".py",
   "mimetype": "text/x-python",
   "name": "python",
   "nbconvert_exporter": "python",
   "pygments_lexer": "ipython3",
   "version": "3.11.0"
  }
 },
 "nbformat": 4,
 "nbformat_minor": 2
}
